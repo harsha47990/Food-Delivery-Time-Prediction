{
  "nbformat": 4,
  "nbformat_minor": 0,
  "metadata": {
    "colab": {
      "provenance": [],
      "collapsed_sections": []
    },
    "kernelspec": {
      "name": "python3",
      "display_name": "Python 3"
    },
    "language_info": {
      "name": "python"
    },
    "gpuClass": "standard",
    "accelerator": "GPU"
  },
  "cells": [
    {
      "cell_type": "code",
      "execution_count": null,
      "metadata": {
        "id": "UA7qXAgUlOSQ"
      },
      "outputs": [],
      "source": [
        "import pandas as pd\n",
        "import pickle"
      ]
    },
    {
      "cell_type": "code",
      "source": [
        "test_df  = pd.read_csv(r'/content/drive/MyDrive/datasets/test.csv')"
      ],
      "metadata": {
        "id": "u1tA_KGEY4u-"
      },
      "execution_count": null,
      "outputs": []
    },
    {
      "cell_type": "code",
      "source": [
        "from google.colab import drive\n",
        "drive.mount('/content/drive')"
      ],
      "metadata": {
        "colab": {
          "base_uri": "https://localhost:8080/"
        },
        "id": "SO32pwAiw4-B",
        "outputId": "75abf100-bdaf-4210-9065-cb00c78b774c"
      },
      "execution_count": null,
      "outputs": [
        {
          "output_type": "stream",
          "name": "stdout",
          "text": [
            "Mounted at /content/drive\n"
          ]
        }
      ]
    },
    {
      "cell_type": "code",
      "source": [
        "train_df = pd.read_csv(r'/content/drive/MyDrive/datasets/train.csv')"
      ],
      "metadata": {
        "id": "iAVb8lB6Y4w7"
      },
      "execution_count": null,
      "outputs": []
    },
    {
      "cell_type": "code",
      "source": [
        "import numpy as np\n",
        "from sklearn.model_selection import train_test_split\n",
        "from sklearn.metrics import r2_score,mean_squared_error\n",
        "from sklearn.linear_model import LinearRegression,Lasso,Ridge\n",
        "from sklearn.preprocessing import PolynomialFeatures\n",
        "from sklearn.tree import DecisionTreeRegressor\n",
        "from sklearn.ensemble import RandomForestRegressor\n",
        "from sklearn.preprocessing import LabelEncoder,StandardScaler"
      ],
      "metadata": {
        "id": "_iUzEekvZDab"
      },
      "execution_count": null,
      "outputs": []
    },
    {
      "cell_type": "code",
      "source": [
        "import matplotlib.pyplot as plt\n",
        "import seaborn as sns\n",
        "from sklearn.svm import SVR\n",
        "from sklearn.decomposition import PCA\n",
        "import random as r\n",
        "from sklearn.preprocessing import OneHotEncoder\n",
        "from sklearn.neighbors import KNeighborsRegressor"
      ],
      "metadata": {
        "id": "w2M7ZS98ZDdC"
      },
      "execution_count": null,
      "outputs": []
    },
    {
      "cell_type": "code",
      "source": [
        "def getdistance(df):\n",
        "  for ind,row in df.iterrows():\n",
        "    res_lat = abs(row['Restaurant_latitude'])\n",
        "    res_long = abs(row['Restaurant_longitude'])\n",
        "    del_lat = abs(row['Delivery_location_latitude'])\n",
        "    del_long = abs(row['Delivery_location_longitude'])\n",
        "    distance = abs(res_lat-del_lat) + abs(res_long-del_long)\n",
        "    df.at[ind,'distance'] = distance*100\n",
        "\n",
        "def diff(s1, s2):\n",
        "    time1 = int(s1.replace(':',''))\n",
        "    time2 = int(s2.replace(':',''))\n",
        "    hourDiff = time2 // 100 - time1 // 100 - 1;\n",
        " \n",
        "    minDiff = time2 % 100 + (60 - time1 % 100)\n",
        " \n",
        "    if (minDiff >= 60):\n",
        "        hourDiff += 1\n",
        "        minDiff = minDiff - 60\n",
        " \n",
        "    res = hourDiff*60  + minDiff\n",
        "     \n",
        "    return res\n",
        "\n",
        "def waittime(df):\n",
        "  for ind,row in df.iterrows():\n",
        "    total_min = diff(row['Time_Orderd'],row['Time_Order_picked'])\n",
        "    if 'Time_taken' in df.columns:\n",
        "      if total_min < 0 or total_min >= row['Time_taken']-5:\n",
        "        df.at[ind,'wait_time'] = row['Time_taken']*0.35\n",
        "      elif total_min < 5 and row['Time_taken'] > 15:\n",
        "        df.at[ind,'wait_time'] = 5\n",
        "      else:\n",
        "        df.at[ind,'wait_time'] = total_min\n",
        "    else:\n",
        "      if total_min <= 0 or total_min >= 10:\n",
        "        df.at[ind,'wait_time'] = 5\n",
        "      else:\n",
        "        df.at[ind,'wait_time'] = total_min\n",
        "\n"
      ],
      "metadata": {
        "id": "ExIfuJB4K7ID"
      },
      "execution_count": null,
      "outputs": []
    },
    {
      "cell_type": "code",
      "source": [
        "#data processing - 3\n",
        "def df_preprocess(df):\n",
        "\n",
        "  age_mean = round(np.nanmean(df['Delivery_person_Age']))\n",
        "  df['Delivery_person_Age'].fillna(age_mean,inplace=True)\n",
        "\n",
        "  df['multiple_deliveries'].fillna(0.0,inplace=True)\n",
        "\n",
        "  avg_rate = np.nanmean(df['Delivery_person_Ratings'])\n",
        "  df['Delivery_person_Ratings'].fillna(round(avg_rate, 1),inplace=True)\n",
        "\n",
        "  hr = str(int(np.median(list(map(lambda x: int(str(x).split(':')[0]),df['Time_Orderd'].dropna())))))\n",
        "  min=str(int(np.median(list(map(lambda x: int(str(x).split(':')[1]),df['Time_Orderd'].dropna())))))\n",
        "  df['Time_Orderd'].fillna(hr+':'+min,inplace=True)\n",
        "\n",
        "  df['Road_traffic_density'].fillna('Medium',inplace=True)\n",
        "\n",
        "  df['Festival'].fillna('No',inplace=True)\n",
        "  df['City'].fillna('Urban',inplace=True)\n",
        "\n",
        "  w_types  = df['Weather'].dropna().unique()\n",
        "  for ind, row in df[df['Weather'].isna()].iterrows():\n",
        "    df.at[ind,'Weather']  = r.choice(w_types)\n",
        "\n",
        "\n",
        "\n",
        "  df.drop(['Unnamed: 0','Name:','ID'],inplace =True,axis= 1)\n",
        "\n",
        "  getdistance(df)\n",
        "  waittime(df)\n",
        "\n",
        "  df = pd.concat([df, pd.get_dummies(df['City'],drop_first = True)],axis=1)\n",
        "\n",
        "  df = pd.concat([df, pd.get_dummies(df['Type_of_order'],drop_first = True)],axis=1)\n",
        "\n",
        "  df = pd.concat([df, pd.get_dummies(df['Weather'],drop_first = True)],axis=1)\n",
        "\n",
        "  df = pd.concat([df, pd.get_dummies(df['Road_traffic_density'],drop_first = True)],axis=1)\n",
        "\n",
        "  df = pd.concat([df, pd.get_dummies(df['Type_of_vehicle'],drop_first = True)],axis=1)\n",
        "\n",
        "  df.drop(['Restaurant_latitude','Delivery_person_ID','Type_of_order','Type_of_vehicle','Restaurant_longitude','Weather','Road_traffic_density','City','Delivery_location_latitude','Delivery_location_longitude','Time_Orderd','Time_Order_picked','Order_Date'],axis=1,inplace=True)\n",
        "  return df\n",
        "\n",
        "def df_transform(df):\n",
        "\n",
        "  if 'Time_taken' in df.columns:\n",
        "  \n",
        "    Festival_le = LabelEncoder()\n",
        "    df['Festival'] = Festival_le.fit_transform(df['Festival'])\n",
        "    pickle.dump(Festival_le,open( r'/content/drive/MyDrive/datasets/Festival_le.pkl', \"wb\" ))\n",
        "\n",
        "    # Delivery_person_id_le = LabelEncoder()\n",
        "    # df['Delivery_person_ID'] = Delivery_person_id_le.fit_transform(df['Delivery_person_ID'])\n",
        "    # pickle.dump(Delivery_person_id_le,open( r'/content/drive/MyDrive/datasets/Delivery_person_id_le.pkl', \"wb\" ))\n",
        "\n",
        "    \n",
        "    train_SS = StandardScaler()\n",
        "    df = train_SS.fit_transform(df.drop(['Time_taken'],axis=1))\n",
        "\n",
        "    pickle.dump(train_SS,open( r'/content/drive/MyDrive/datasets/train_SS.pkl', \"wb\" ))\n",
        "    return df\n",
        "  else:\n",
        "\n",
        "    train_SS=pickle.load(open( r'/content/drive/MyDrive/datasets/train_SS.pkl', \"rb\" ))\n",
        "    Festival_le =  pickle.load(open( r'/content/drive/MyDrive/datasets/Festival_le.pkl', \"rb\" ))\n",
        "    # Delivery_person_id_le = pickle.load(open( r'/content/drive/MyDrive/datasets/Delivery_person_id_le.pkl', \"rb\" ))\n",
        "    df['Festival'] = Festival_le.transform(df['Festival'])\n",
        "    # df['Delivery_person_ID'] = Delivery_person_id_le.fit_transform(df['Delivery_person_ID'])\n",
        "    df = train_SS.transform(df)\n",
        "    return df\n",
        "  \n",
        "\n",
        "def predict(df):\n",
        "  model = pickle.load(open( r'/content/drive/MyDrive/datasets/trained_model.pkl', \"rb\" ))\n",
        "  return model.predict(df)\n",
        "\n"
      ],
      "metadata": {
        "id": "LJxqDz15_eUW"
      },
      "execution_count": null,
      "outputs": []
    },
    {
      "cell_type": "code",
      "source": [
        "train_df = df_preprocess(train_df)\n",
        "y = train_df['Time_taken']\n",
        "train_df.head()\n",
        "train_df = df_transform(train_df)"
      ],
      "metadata": {
        "id": "MUDq7GGRMxy-"
      },
      "execution_count": null,
      "outputs": []
    },
    {
      "cell_type": "code",
      "source": [],
      "metadata": {
        "id": "U-OHsjWCUh6u"
      },
      "execution_count": null,
      "outputs": []
    },
    {
      "cell_type": "code",
      "source": [
        "#train_df[['Delivery_person_Age','Time_taken']].corr()\n",
        "plt.scatter(train_df['Delivery_person_Age'],train_df['Time_taken'])\n",
        "plt.show()"
      ],
      "metadata": {
        "colab": {
          "base_uri": "https://localhost:8080/",
          "height": 265
        },
        "id": "Qwely0RmM0Tz",
        "outputId": "080ab7a6-b18e-42dc-b9f6-d6dd94d738c6"
      },
      "execution_count": null,
      "outputs": [
        {
          "output_type": "display_data",
          "data": {
            "text/plain": [
              "<Figure size 432x288 with 1 Axes>"
            ],
            "image/png": "[encoded data removed]"
          },
          "metadata": {
            "needs_background": "light"
          }
        }
      ]
    },
    {
      "cell_type": "code",
      "source": [
        "plt.scatter(train_df['Type_of_vehicle'],train_df['Time_taken'])\n",
        "plt.show()"
      ],
      "metadata": {
        "colab": {
          "base_uri": "https://localhost:8080/",
          "height": 266
        },
        "id": "z9pNkXagNcjX",
        "outputId": "10710d4a-484f-42cd-8e76-7046da75bcb2"
      },
      "execution_count": null,
      "outputs": [
        {
          "output_type": "display_data",
          "data": {
            "text/plain": [
              "<Figure size 432x288 with 1 Axes>"
            ],
            "image/png": "[encoded data removed]"
          },
          "metadata": {
            "needs_background": "light"
          }
        }
      ]
    },
    {
      "cell_type": "code",
      "source": [
        "plt.scatter(train_df['Delivery_person_Ratings'],train_df['Time_taken'])\n",
        "plt.show()"
      ],
      "metadata": {
        "colab": {
          "base_uri": "https://localhost:8080/",
          "height": 265
        },
        "id": "utAbj_EyQMGD",
        "outputId": "22b76e61-8c5b-42a2-aab5-11825f696be4"
      },
      "execution_count": null,
      "outputs": [
        {
          "output_type": "display_data",
          "data": {
            "text/plain": [
              "<Figure size 432x288 with 1 Axes>"
            ],
            "image/png": "[encoded data removed]"
          },
          "metadata": {
            "needs_background": "light"
          }
        }
      ]
    },
    {
      "cell_type": "code",
      "source": [
        "plt.scatter(train_df['Vehicle_condition'],train_df['Time_taken'])\n",
        "plt.show()"
      ],
      "metadata": {
        "colab": {
          "base_uri": "https://localhost:8080/",
          "height": 265
        },
        "id": "eCswd5ywQbWk",
        "outputId": "88b3233a-3845-43b9-b006-c25d2606dfba"
      },
      "execution_count": null,
      "outputs": [
        {
          "output_type": "display_data",
          "data": {
            "text/plain": [
              "<Figure size 432x288 with 1 Axes>"
            ],
            "image/png": "[encoded data removed]"
          },
          "metadata": {
            "needs_background": "light"
          }
        }
      ]
    },
    {
      "cell_type": "code",
      "source": [
        "train_df[train_df['Type_of_vehicle'] == 'bicycle'].i"
      ],
      "metadata": {
        "colab": {
          "base_uri": "https://localhost:8080/",
          "height": 505
        },
        "id": "XKCBxDaLOCEP",
        "outputId": "0c78d9ce-4ace-4957-f061-20bd44453d8a"
      },
      "execution_count": null,
      "outputs": [
        {
          "output_type": "execute_result",
          "data": {
            "text/plain": [
              "       Unnamed: 0      ID Delivery_person_ID  Delivery_person_Age  \\\n",
              "1142         1142  0x1066      MYSRES05DEL01                  NaN   \n",
              "1378         1378   0x444      JAPRES01DEL01                  NaN   \n",
              "1624         1624   0x812      JAPRES09DEL01                  NaN   \n",
              "1681         1681   0x429      HYDRES11DEL03                  NaN   \n",
              "1961         1961  0xbf39      BHPRES12DEL01                  NaN   \n",
              "...           ...     ...                ...                  ...   \n",
              "42829       42829   0x492      VADRES19DEL02                  NaN   \n",
              "43164       43164   0x43b     PUNERES13DEL02                  NaN   \n",
              "43407       43407   0x409      JAPRES18DEL03                  NaN   \n",
              "45067       45067  0xbeff      BHPRES15DEL01                  NaN   \n",
              "45394       45394   0xdc4   RANCHIRES02DEL03                  NaN   \n",
              "\n",
              "       Delivery_person_Ratings  Restaurant_latitude  Restaurant_longitude  \\\n",
              "1142                       NaN            12.323978             76.627961   \n",
              "1378                       NaN           -26.905190            -75.810753   \n",
              "1624                       NaN            26.911378             75.789034   \n",
              "1681                       NaN            17.430448             78.418213   \n",
              "1961                       NaN             0.000000              0.000000   \n",
              "...                        ...                  ...                   ...   \n",
              "42829                      NaN            22.311844             73.165081   \n",
              "43164                      NaN           -18.562450            -73.916619   \n",
              "43407                      NaN            26.913987             75.752891   \n",
              "45067                      NaN            23.234249             77.434007   \n",
              "45394                      NaN             0.000000              0.000000   \n",
              "\n",
              "       Delivery_location_latitude  Delivery_location_longitude  Order_Date  \\\n",
              "1142                    12.363978                    76.667961  19-03-2022   \n",
              "1378                    26.975190                    75.880753  04-04-2022   \n",
              "1624                    26.921378                    75.799034  24-03-2022   \n",
              "1681                    17.490448                    78.478213  17-03-2022   \n",
              "1961                     0.040000                     0.040000  13-02-2022   \n",
              "...                           ...                          ...         ...   \n",
              "42829                   22.441844                    73.295081  02-03-2022   \n",
              "43164                   18.612450                    73.966619  19-03-2022   \n",
              "43407                   27.003987                    75.842891  08-03-2022   \n",
              "45067                   23.344249                    77.544007  14-02-2022   \n",
              "45394                    0.030000                     0.030000  05-03-2022   \n",
              "\n",
              "       ... Weather Road_traffic_density Vehicle_condition Type_of_order  \\\n",
              "1142   ...     NaN                  NaN                 3          Meal   \n",
              "1378   ...     NaN                  NaN                 3          Meal   \n",
              "1624   ...     NaN                  NaN                 3        Buffet   \n",
              "1681   ...     NaN                  NaN                 3        Buffet   \n",
              "1961   ...     NaN                  NaN                 3        Buffet   \n",
              "...    ...     ...                  ...               ...           ...   \n",
              "42829  ...     NaN                  NaN                 3          Meal   \n",
              "43164  ...     NaN                  NaN                 3         Snack   \n",
              "43407  ...     NaN                  NaN                 3        Drinks   \n",
              "45067  ...     NaN                  NaN                 3        Drinks   \n",
              "45394  ...     NaN                  NaN                 3        Buffet   \n",
              "\n",
              "       Type_of_vehicle multiple_deliveries Festival           City Time_taken  \\\n",
              "1142           bicycle                 0.0       No  Metropolitian       28.0   \n",
              "1378           bicycle                 1.0       No  Metropolitian       37.0   \n",
              "1624           bicycle                 1.0       No  Metropolitian       13.0   \n",
              "1681           bicycle                 0.0       No  Metropolitian       18.0   \n",
              "1961           bicycle                 1.0       No  Metropolitian       47.0   \n",
              "...                ...                 ...      ...            ...        ...   \n",
              "42829          bicycle                 1.0      Yes  Metropolitian       47.0   \n",
              "43164          bicycle                 NaN       No  Metropolitian       37.0   \n",
              "43407          bicycle                 1.0       No            NaN       31.0   \n",
              "45067          bicycle                 1.0       No  Metropolitian       39.0   \n",
              "45394          bicycle                 1.0       No  Metropolitian       21.0   \n",
              "\n",
              "        Name:  \n",
              "1142   object  \n",
              "1378   object  \n",
              "1624   object  \n",
              "1681   object  \n",
              "1961   object  \n",
              "...       ...  \n",
              "42829  object  \n",
              "43164  object  \n",
              "43407  object  \n",
              "45067  object  \n",
              "45394  object  \n",
              "\n",
              "[68 rows x 22 columns]"
            ],
            "text/html": [
              "\n",
              "  <div id=\"df-5743602e-8c57-4f04-a6d9-7971fab0712c\">\n",
              "    <div class=\"colab-df-container\">\n",
              "      <div>\n",
              "<style scoped>\n",
              "    .dataframe tbody tr th:only-of-type {\n",
              "        vertical-align: middle;\n",
              "    }\n",
              "\n",
              "    .dataframe tbody tr th {\n",
              "        vertical-align: top;\n",
              "    }\n",
              "\n",
              "    .dataframe thead th {\n",
              "        text-align: right;\n",
              "    }\n",
              "</style>\n",
              "<table border=\"1\" class=\"dataframe\">\n",
              "  <thead>\n",
              "    <tr style=\"text-align: right;\">\n",
              "      <th></th>\n",
              "      <th>Unnamed: 0</th>\n",
              "      <th>ID</th>\n",
              "      <th>Delivery_person_ID</th>\n",
              "      <th>Delivery_person_Age</th>\n",
              "      <th>Delivery_person_Ratings</th>\n",
              "      <th>Restaurant_latitude</th>\n",
              "      <th>Restaurant_longitude</th>\n",
              "      <th>Delivery_location_latitude</th>\n",
              "      <th>Delivery_location_longitude</th>\n",
              "      <th>Order_Date</th>\n",
              "      <th>...</th>\n",
              "      <th>Weather</th>\n",
              "      <th>Road_traffic_density</th>\n",
              "      <th>Vehicle_condition</th>\n",
              "      <th>Type_of_order</th>\n",
              "      <th>Type_of_vehicle</th>\n",
              "      <th>multiple_deliveries</th>\n",
              "      <th>Festival</th>\n",
              "      <th>City</th>\n",
              "      <th>Time_taken</th>\n",
              "      <th>Name:</th>\n",
              "    </tr>\n",
              "  </thead>\n",
              "  <tbody>\n",
              "    <tr>\n",
              "      <th>1142</th>\n",
              "      <td>1142</td>\n",
              "      <td>0x1066</td>\n",
              "      <td>MYSRES05DEL01</td>\n",
              "      <td>NaN</td>\n",
              "      <td>NaN</td>\n",
              "      <td>12.323978</td>\n",
              "      <td>76.627961</td>\n",
              "      <td>12.363978</td>\n",
              "      <td>76.667961</td>\n",
              "      <td>19-03-2022</td>\n",
              "      <td>...</td>\n",
              "      <td>NaN</td>\n",
              "      <td>NaN</td>\n",
              "      <td>3</td>\n",
              "      <td>Meal</td>\n",
              "      <td>bicycle</td>\n",
              "      <td>0.0</td>\n",
              "      <td>No</td>\n",
              "      <td>Metropolitian</td>\n",
              "      <td>28.0</td>\n",
              "      <td>object</td>\n",
              "    </tr>\n",
              "    <tr>\n",
              "      <th>1378</th>\n",
              "      <td>1378</td>\n",
              "      <td>0x444</td>\n",
              "      <td>JAPRES01DEL01</td>\n",
              "      <td>NaN</td>\n",
              "      <td>NaN</td>\n",
              "      <td>-26.905190</td>\n",
              "      <td>-75.810753</td>\n",
              "      <td>26.975190</td>\n",
              "      <td>75.880753</td>\n",
              "      <td>04-04-2022</td>\n",
              "      <td>...</td>\n",
              "      <td>NaN</td>\n",
              "      <td>NaN</td>\n",
              "      <td>3</td>\n",
              "      <td>Meal</td>\n",
              "      <td>bicycle</td>\n",
              "      <td>1.0</td>\n",
              "      <td>No</td>\n",
              "      <td>Metropolitian</td>\n",
              "      <td>37.0</td>\n",
              "      <td>object</td>\n",
              "    </tr>\n",
              "    <tr>\n",
              "      <th>1624</th>\n",
              "      <td>1624</td>\n",
              "      <td>0x812</td>\n",
              "      <td>JAPRES09DEL01</td>\n",
              "      <td>NaN</td>\n",
              "      <td>NaN</td>\n",
              "      <td>26.911378</td>\n",
              "      <td>75.789034</td>\n",
              "      <td>26.921378</td>\n",
              "      <td>75.799034</td>\n",
              "      <td>24-03-2022</td>\n",
              "      <td>...</td>\n",
              "      <td>NaN</td>\n",
              "      <td>NaN</td>\n",
              "      <td>3</td>\n",
              "      <td>Buffet</td>\n",
              "      <td>bicycle</td>\n",
              "      <td>1.0</td>\n",
              "      <td>No</td>\n",
              "      <td>Metropolitian</td>\n",
              "      <td>13.0</td>\n",
              "      <td>object</td>\n",
              "    </tr>\n",
              "    <tr>\n",
              "      <th>1681</th>\n",
              "      <td>1681</td>\n",
              "      <td>0x429</td>\n",
              "      <td>HYDRES11DEL03</td>\n",
              "      <td>NaN</td>\n",
              "      <td>NaN</td>\n",
              "      <td>17.430448</td>\n",
              "      <td>78.418213</td>\n",
              "      <td>17.490448</td>\n",
              "      <td>78.478213</td>\n",
              "      <td>17-03-2022</td>\n",
              "      <td>...</td>\n",
              "      <td>NaN</td>\n",
              "      <td>NaN</td>\n",
              "      <td>3</td>\n",
              "      <td>Buffet</td>\n",
              "      <td>bicycle</td>\n",
              "      <td>0.0</td>\n",
              "      <td>No</td>\n",
              "      <td>Metropolitian</td>\n",
              "      <td>18.0</td>\n",
              "      <td>object</td>\n",
              "    </tr>\n",
              "    <tr>\n",
              "      <th>1961</th>\n",
              "      <td>1961</td>\n",
              "      <td>0xbf39</td>\n",
              "      <td>BHPRES12DEL01</td>\n",
              "      <td>NaN</td>\n",
              "      <td>NaN</td>\n",
              "      <td>0.000000</td>\n",
              "      <td>0.000000</td>\n",
              "      <td>0.040000</td>\n",
              "      <td>0.040000</td>\n",
              "      <td>13-02-2022</td>\n",
              "      <td>...</td>\n",
              "      <td>NaN</td>\n",
              "      <td>NaN</td>\n",
              "      <td>3</td>\n",
              "      <td>Buffet</td>\n",
              "      <td>bicycle</td>\n",
              "      <td>1.0</td>\n",
              "      <td>No</td>\n",
              "      <td>Metropolitian</td>\n",
              "      <td>47.0</td>\n",
              "      <td>object</td>\n",
              "    </tr>\n",
              "    <tr>\n",
              "      <th>...</th>\n",
              "      <td>...</td>\n",
              "      <td>...</td>\n",
              "      <td>...</td>\n",
              "      <td>...</td>\n",
              "      <td>...</td>\n",
              "      <td>...</td>\n",
              "      <td>...</td>\n",
              "      <td>...</td>\n",
              "      <td>...</td>\n",
              "      <td>...</td>\n",
              "      <td>...</td>\n",
              "      <td>...</td>\n",
              "      <td>...</td>\n",
              "      <td>...</td>\n",
              "      <td>...</td>\n",
              "      <td>...</td>\n",
              "      <td>...</td>\n",
              "      <td>...</td>\n",
              "      <td>...</td>\n",
              "      <td>...</td>\n",
              "      <td>...</td>\n",
              "    </tr>\n",
              "    <tr>\n",
              "      <th>42829</th>\n",
              "      <td>42829</td>\n",
              "      <td>0x492</td>\n",
              "      <td>VADRES19DEL02</td>\n",
              "      <td>NaN</td>\n",
              "      <td>NaN</td>\n",
              "      <td>22.311844</td>\n",
              "      <td>73.165081</td>\n",
              "      <td>22.441844</td>\n",
              "      <td>73.295081</td>\n",
              "      <td>02-03-2022</td>\n",
              "      <td>...</td>\n",
              "      <td>NaN</td>\n",
              "      <td>NaN</td>\n",
              "      <td>3</td>\n",
              "      <td>Meal</td>\n",
              "      <td>bicycle</td>\n",
              "      <td>1.0</td>\n",
              "      <td>Yes</td>\n",
              "      <td>Metropolitian</td>\n",
              "      <td>47.0</td>\n",
              "      <td>object</td>\n",
              "    </tr>\n",
              "    <tr>\n",
              "      <th>43164</th>\n",
              "      <td>43164</td>\n",
              "      <td>0x43b</td>\n",
              "      <td>PUNERES13DEL02</td>\n",
              "      <td>NaN</td>\n",
              "      <td>NaN</td>\n",
              "      <td>-18.562450</td>\n",
              "      <td>-73.916619</td>\n",
              "      <td>18.612450</td>\n",
              "      <td>73.966619</td>\n",
              "      <td>19-03-2022</td>\n",
              "      <td>...</td>\n",
              "      <td>NaN</td>\n",
              "      <td>NaN</td>\n",
              "      <td>3</td>\n",
              "      <td>Snack</td>\n",
              "      <td>bicycle</td>\n",
              "      <td>NaN</td>\n",
              "      <td>No</td>\n",
              "      <td>Metropolitian</td>\n",
              "      <td>37.0</td>\n",
              "      <td>object</td>\n",
              "    </tr>\n",
              "    <tr>\n",
              "      <th>43407</th>\n",
              "      <td>43407</td>\n",
              "      <td>0x409</td>\n",
              "      <td>JAPRES18DEL03</td>\n",
              "      <td>NaN</td>\n",
              "      <td>NaN</td>\n",
              "      <td>26.913987</td>\n",
              "      <td>75.752891</td>\n",
              "      <td>27.003987</td>\n",
              "      <td>75.842891</td>\n",
              "      <td>08-03-2022</td>\n",
              "      <td>...</td>\n",
              "      <td>NaN</td>\n",
              "      <td>NaN</td>\n",
              "      <td>3</td>\n",
              "      <td>Drinks</td>\n",
              "      <td>bicycle</td>\n",
              "      <td>1.0</td>\n",
              "      <td>No</td>\n",
              "      <td>NaN</td>\n",
              "      <td>31.0</td>\n",
              "      <td>object</td>\n",
              "    </tr>\n",
              "    <tr>\n",
              "      <th>45067</th>\n",
              "      <td>45067</td>\n",
              "      <td>0xbeff</td>\n",
              "      <td>BHPRES15DEL01</td>\n",
              "      <td>NaN</td>\n",
              "      <td>NaN</td>\n",
              "      <td>23.234249</td>\n",
              "      <td>77.434007</td>\n",
              "      <td>23.344249</td>\n",
              "      <td>77.544007</td>\n",
              "      <td>14-02-2022</td>\n",
              "      <td>...</td>\n",
              "      <td>NaN</td>\n",
              "      <td>NaN</td>\n",
              "      <td>3</td>\n",
              "      <td>Drinks</td>\n",
              "      <td>bicycle</td>\n",
              "      <td>1.0</td>\n",
              "      <td>No</td>\n",
              "      <td>Metropolitian</td>\n",
              "      <td>39.0</td>\n",
              "      <td>object</td>\n",
              "    </tr>\n",
              "    <tr>\n",
              "      <th>45394</th>\n",
              "      <td>45394</td>\n",
              "      <td>0xdc4</td>\n",
              "      <td>RANCHIRES02DEL03</td>\n",
              "      <td>NaN</td>\n",
              "      <td>NaN</td>\n",
              "      <td>0.000000</td>\n",
              "      <td>0.000000</td>\n",
              "      <td>0.030000</td>\n",
              "      <td>0.030000</td>\n",
              "      <td>05-03-2022</td>\n",
              "      <td>...</td>\n",
              "      <td>NaN</td>\n",
              "      <td>NaN</td>\n",
              "      <td>3</td>\n",
              "      <td>Buffet</td>\n",
              "      <td>bicycle</td>\n",
              "      <td>1.0</td>\n",
              "      <td>No</td>\n",
              "      <td>Metropolitian</td>\n",
              "      <td>21.0</td>\n",
              "      <td>object</td>\n",
              "    </tr>\n",
              "  </tbody>\n",
              "</table>\n",
              "<p>68 rows × 22 columns</p>\n",
              "</div>\n",
              "      <button class=\"colab-df-convert\" onclick=\"convertToInteractive('df-5743602e-8c57-4f04-a6d9-7971fab0712c')\"\n",
              "              title=\"Convert this dataframe to an interactive table.\"\n",
              "              style=\"display:none;\">\n",
              "        \n",
              "  <svg xmlns=\"http://www.w3.org/2000/svg\" height=\"24px\"viewBox=\"0 0 24 24\"\n",
              "       width=\"24px\">\n",
              "    <path d=\"M0 0h24v24H0V0z\" fill=\"none\"/>\n",
              "    <path d=\"M18.56 5.44l.94 2.06.94-2.06 2.06-.94-2.06-.94-.94-2.06-.94 2.06-2.06.94zm-11 1L8.5 8.5l.94-2.06 2.06-.94-2.06-.94L8.5 2.5l-.94 2.06-2.06.94zm10 10l.94 2.06.94-2.06 2.06-.94-2.06-.94-.94-2.06-.94 2.06-2.06.94z\"/><path d=\"M17.41 7.96l-1.37-1.37c-.4-.4-.92-.59-1.43-.59-.52 0-1.04.2-1.43.59L10.3 9.45l-7.72 7.72c-.78.78-.78 2.05 0 2.83L4 21.41c.39.39.9.59 1.41.59.51 0 1.02-.2 1.41-.59l7.78-7.78 2.81-2.81c.8-.78.8-2.07 0-2.86zM5.41 20L4 18.59l7.72-7.72 1.47 1.35L5.41 20z\"/>\n",
              "  </svg>\n",
              "      </button>\n",
              "      \n",
              "  <style>\n",
              "    .colab-df-container {\n",
              "      display:flex;\n",
              "      flex-wrap:wrap;\n",
              "      gap: 12px;\n",
              "    }\n",
              "\n",
              "    .colab-df-convert {\n",
              "      background-color: #E8F0FE;\n",
              "      border: none;\n",
              "      border-radius: 50%;\n",
              "      cursor: pointer;\n",
              "      display: none;\n",
              "      fill: #1967D2;\n",
              "      height: 32px;\n",
              "      padding: 0 0 0 0;\n",
              "      width: 32px;\n",
              "    }\n",
              "\n",
              "    .colab-df-convert:hover {\n",
              "      background-color: #E2EBFA;\n",
              "      box-shadow: 0px 1px 2px rgba(60, 64, 67, 0.3), 0px 1px 3px 1px rgba(60, 64, 67, 0.15);\n",
              "      fill: #174EA6;\n",
              "    }\n",
              "\n",
              "    [theme=dark] .colab-df-convert {\n",
              "      background-color: #3B4455;\n",
              "      fill: #D2E3FC;\n",
              "    }\n",
              "\n",
              "    [theme=dark] .colab-df-convert:hover {\n",
              "      background-color: #434B5C;\n",
              "      box-shadow: 0px 1px 3px 1px rgba(0, 0, 0, 0.15);\n",
              "      filter: drop-shadow(0px 1px 2px rgba(0, 0, 0, 0.3));\n",
              "      fill: #FFFFFF;\n",
              "    }\n",
              "  </style>\n",
              "\n",
              "      <script>\n",
              "        const buttonEl =\n",
              "          document.querySelector('#df-5743602e-8c57-4f04-a6d9-7971fab0712c button.colab-df-convert');\n",
              "        buttonEl.style.display =\n",
              "          google.colab.kernel.accessAllowed ? 'block' : 'none';\n",
              "\n",
              "        async function convertToInteractive(key) {\n",
              "          const element = document.querySelector('#df-5743602e-8c57-4f04-a6d9-7971fab0712c');\n",
              "          const dataTable =\n",
              "            await google.colab.kernel.invokeFunction('convertToInteractive',\n",
              "                                                     [key], {});\n",
              "          if (!dataTable) return;\n",
              "\n",
              "          const docLinkHtml = 'Like what you see? Visit the ' +\n",
              "            '<a target=\"_blank\" href=https://colab.research.google.com/notebooks/data_table.ipynb>data table notebook</a>'\n",
              "            + ' to learn more about interactive tables.';\n",
              "          element.innerHTML = '';\n",
              "          dataTable['output_type'] = 'display_data';\n",
              "          await google.colab.output.renderOutput(dataTable, element);\n",
              "          const docLink = document.createElement('div');\n",
              "          docLink.innerHTML = docLinkHtml;\n",
              "          element.appendChild(docLink);\n",
              "        }\n",
              "      </script>\n",
              "    </div>\n",
              "  </div>\n",
              "  "
            ]
          },
          "metadata": {},
          "execution_count": 26
        }
      ]
    },
    {
      "cell_type": "code",
      "source": [
        "#data processing - 2\n",
        "def df_preprocess(df):\n",
        "\n",
        "  age_mean = round(np.nanmean(df['Delivery_person_Age']))\n",
        "  df['Delivery_person_Age'].fillna(age_mean,inplace=True)\n",
        "\n",
        "  df['multiple_deliveries'].fillna(0.0,inplace=True)\n",
        "\n",
        "  avg_rate = np.nanmean(df['Delivery_person_Ratings'])\n",
        "  df['Delivery_person_Ratings'].fillna(round(avg_rate, 1),inplace=True)\n",
        "\n",
        "  hr = str(int(np.median(list(map(lambda x: int(str(x).split(':')[0]),df['Time_Orderd'].dropna())))))\n",
        "  min=str(int(np.median(list(map(lambda x: int(str(x).split(':')[1]),df['Time_Orderd'].dropna())))))\n",
        "  df['Time_Orderd'].fillna(hr+':'+min,inplace=True)\n",
        "\n",
        "  df['Road_traffic_density'].fillna('Medium',inplace=True)\n",
        "\n",
        "  df['Festival'].fillna('No',inplace=True)\n",
        "  df['City'].fillna('Urban',inplace=True)\n",
        "\n",
        "  w_types  = df['Weather'].dropna().unique()\n",
        "  for ind, row in df[df['Weather'].isna()].iterrows():\n",
        "    df.at[ind,'Weather']  = r.choice(w_types)\n",
        "\n",
        "\n",
        "\n",
        "  df.drop(['Unnamed: 0','Name:','ID','Delivery_person_ID','Type_of_order'],inplace =True,axis= 1)\n",
        "\n",
        "  getdistance(df)\n",
        "  waittime(df)\n",
        "\n",
        "  df = pd.concat([df, pd.get_dummies(df['City'],drop_first = True)],axis=1)\n",
        "\n",
        "  df = pd.concat([df, pd.get_dummies(df['Weather'],drop_first = True)],axis=1)\n",
        "\n",
        "  df = pd.concat([df, pd.get_dummies(df['Road_traffic_density'],drop_first = True)],axis=1)\n",
        "\n",
        "  df.drop(['Restaurant_latitude','Restaurant_longitude','Weather','Road_traffic_density','City','Delivery_location_latitude','Delivery_location_longitude','Time_Orderd','Time_Order_picked','Order_Date'],axis=1,inplace=True)\n",
        "  return df\n",
        "\n",
        "def df_transform(df):\n",
        "\n",
        "  if 'Time_taken' in df.columns:\n",
        "  \n",
        "    Festival_le = LabelEncoder()\n",
        "    df['Festival'] = Festival_le.fit_transform(df['Festival'])\n",
        "    pickle.dump(Festival_le,open( r'/content/drive/MyDrive/datasets/Festival_le.pkl', \"wb\" ))\n",
        "\n",
        "    Type_of_vehicle_le = LabelEncoder()\n",
        "    df['Type_of_vehicle'] = Type_of_vehicle_le.fit_transform(df['Type_of_vehicle'])\n",
        "    pickle.dump(Type_of_vehicle_le,open( r'/content/drive/MyDrive/datasets/Type_of_vehicle_le.pkl', \"wb\" ))\n",
        "    \n",
        "    train_SS = StandardScaler()\n",
        "    df = train_SS.fit_transform(df.drop(['Time_taken'],axis=1))\n",
        "\n",
        "    pickle.dump(train_SS,open( r'/content/drive/MyDrive/datasets/train_SS.pkl', \"wb\" ))\n",
        "    return df\n",
        "  else:\n",
        "\n",
        "    Type_of_vehicle_le=pickle.load(open( r'/content/drive/MyDrive/datasets/Type_of_vehicle_le.pkl', \"rb\" ))\n",
        "    train_SS=pickle.load(open( r'/content/drive/MyDrive/datasets/train_SS.pkl', \"rb\" ))\n",
        "    Festival_le =  pickle.load(open( r'/content/drive/MyDrive/datasets/Festival_le.pkl', \"rb\" ))\n",
        "    df['Festival'] = Festival_le.transform(df['Festival'])\n",
        "    df['Type_of_vehicle'] = Type_of_vehicle_le.transform(df['Type_of_vehicle'])\n",
        "    df = train_SS.transform(df)\n",
        "    return df\n",
        "  \n",
        "\n",
        "def predict(df):\n",
        "  model = pickle.load(open( r'/content/drive/MyDrive/datasets/trained_model.pkl', \"rb\" ))\n",
        "  return model.predict(df)\n",
        "\n"
      ],
      "metadata": {
        "id": "3SzSZY0_K7Ko"
      },
      "execution_count": null,
      "outputs": []
    },
    {
      "cell_type": "code",
      "source": [],
      "metadata": {
        "colab": {
          "base_uri": "https://localhost:8080/"
        },
        "id": "jzpRQGVOwpcQ",
        "outputId": "3d206b0e-a9e1-4877-855a-0529b488db00"
      },
      "execution_count": null,
      "outputs": [
        {
          "output_type": "stream",
          "name": "stdout",
          "text": [
            "   Delivery_person_Age  Delivery_person_Ratings  Vehicle_condition  \\\n",
            "0                 37.0                      4.9                  2   \n",
            "1                 34.0                      4.5                  2   \n",
            "2                 23.0                      4.4                  0   \n",
            "3                 38.0                      4.7                  0   \n",
            "4                 32.0                      4.6                  1   \n",
            "\n",
            "  Type_of_vehicle  multiple_deliveries Festival  Time_taken  distance  \\\n",
            "0      motorcycle                  0.0       No        24.0       4.0   \n",
            "1         scooter                  1.0       No        33.0      26.0   \n",
            "2      motorcycle                  1.0       No        26.0       2.0   \n",
            "3      motorcycle                  1.0       No        21.0      10.0   \n",
            "4         scooter                  1.0       No        30.0       8.0   \n",
            "\n",
            "   wait_time  Semi-Urban  Urban  Fog  Sandstorms  Stormy  Sunny  Windy  Jam  \\\n",
            "0       15.0           0      1    0           0       0      1      0    0   \n",
            "1        5.0           0      0    0           0       1      0      0    1   \n",
            "2       15.0           0      1    0           1       0      0      0    0   \n",
            "3       10.0           0      0    0           0       0      1      0    0   \n",
            "4       15.0           0      0    0           0       0      0      0    0   \n",
            "\n",
            "   Low  Medium  \n",
            "0    0       0  \n",
            "1    0       0  \n",
            "2    1       0  \n",
            "3    0       1  \n",
            "4    0       0  \n"
          ]
        }
      ]
    },
    {
      "cell_type": "code",
      "source": [],
      "metadata": {
        "colab": {
          "base_uri": "https://localhost:8080/",
          "height": 165
        },
        "id": "5noyZMyNxUli",
        "outputId": "2c116558-4205-4bd5-d623-28101c99fd94"
      },
      "execution_count": null,
      "outputs": [
        {
          "output_type": "error",
          "ename": "AttributeError",
          "evalue": "ignored",
          "traceback": [
            "\u001b[0;31m---------------------------------------------------------------------------\u001b[0m",
            "\u001b[0;31mAttributeError\u001b[0m                            Traceback (most recent call last)",
            "\u001b[0;32m<ipython-input-20-a7a80d20a44e>\u001b[0m in \u001b[0;36m<module>\u001b[0;34m\u001b[0m\n\u001b[0;32m----> 1\u001b[0;31m \u001b[0mtrain_df\u001b[0m\u001b[0;34m.\u001b[0m\u001b[0mcorr\u001b[0m\u001b[0;34m(\u001b[0m\u001b[0;34m)\u001b[0m\u001b[0;34m\u001b[0m\u001b[0;34m\u001b[0m\u001b[0m\n\u001b[0m",
            "\u001b[0;31mAttributeError\u001b[0m: 'numpy.ndarray' object has no attribute 'corr'"
          ]
        }
      ]
    },
    {
      "cell_type": "code",
      "source": [
        "fig = plt.figure()\n",
        "ax = plt.axes(projection ='3d')\n",
        "z = y\n",
        "y = train_df['distance']\n",
        "x= train_df['wait_time']\n",
        "ax.plot3D(x, y, z, 'green')\n",
        "ax.set_title('3D line plot geeks for geeks')\n",
        "plt.show()"
      ],
      "metadata": {
        "colab": {
          "base_uri": "https://localhost:8080/",
          "height": 248
        },
        "id": "2fpWQhG-txln",
        "outputId": "452bd8fa-eae7-41bc-82dd-7316ed8aa9f8"
      },
      "execution_count": null,
      "outputs": [
        {
          "output_type": "display_data",
          "data": {
            "text/plain": [
              "<Figure size 432x288 with 1 Axes>"
            ],
            "image/png": "[encoded data removed]"
          },
          "metadata": {
            "needs_background": "light"
          }
        }
      ]
    },
    {
      "cell_type": "code",
      "source": [
        "fig = plt.figure()\n",
        "plt.plot(train_df['distance'], y)\n",
        "plt.show()"
      ],
      "metadata": {
        "colab": {
          "base_uri": "https://localhost:8080/",
          "height": 265
        },
        "id": "dvRSaHEcuiCc",
        "outputId": "d74921e4-726e-44d6-fda0-47fd8ede80c8"
      },
      "execution_count": null,
      "outputs": [
        {
          "output_type": "display_data",
          "data": {
            "text/plain": [
              "<Figure size 432x288 with 1 Axes>"
            ],
            "image/png": "[encoded data removed]"
          },
          "metadata": {
            "needs_background": "light"
          }
        }
      ]
    },
    {
      "cell_type": "code",
      "source": [
        "\n"
      ],
      "metadata": {
        "colab": {
          "base_uri": "https://localhost:8080/"
        },
        "id": "BGFr-wSowpew",
        "outputId": "16ee6068-f27d-4a45-c805-fce10f3a154a"
      },
      "execution_count": null,
      "outputs": [
        {
          "output_type": "execute_result",
          "data": {
            "text/plain": [
              "18"
            ]
          },
          "metadata": {},
          "execution_count": 61
        }
      ]
    },
    {
      "cell_type": "code",
      "source": [
        "#data processing - 1\n",
        "def df_preprocess(df):\n",
        "\n",
        "  age_mean = round(np.nanmean(df['Delivery_person_Age']))\n",
        "  df['Delivery_person_Age'].fillna(age_mean,inplace=True)\n",
        "\n",
        "  df['multiple_deliveries'].fillna(0.0,inplace=True)\n",
        "\n",
        "  avg_rate = np.nanmean(df['Delivery_person_Ratings'])\n",
        "  df['Delivery_person_Ratings'].fillna(round(avg_rate, 1),inplace=True)\n",
        "\n",
        "  hr = str(int(np.median(list(map(lambda x: int(str(x).split(':')[0]),df['Time_Orderd'].dropna())))))\n",
        "  min=str(int(np.median(list(map(lambda x: int(str(x).split(':')[1]),df['Time_Orderd'].dropna())))))\n",
        "  df['Time_Orderd'].fillna(hr+':'+min,inplace=True)\n",
        "\n",
        "  df['Road_traffic_density'].fillna('Medium',inplace=True)\n",
        "\n",
        "  df['Festival'].fillna('No',inplace=True)\n",
        "  df['City'].fillna('Urban',inplace=True)\n",
        "\n",
        "  w_types  = df['Weather'].dropna().unique()\n",
        "  for ind, row in df[df['Weather'].isna()].iterrows():\n",
        "    df.at[ind,'Weather']  = r.choice(w_types)\n",
        "\n",
        "\n",
        "\n",
        "  df.drop(['Unnamed: 0','Name:','ID','Delivery_person_ID','Type_of_order'],inplace =True,axis= 1)\n",
        "\n",
        "  getdistance(df)\n",
        "  waittime(df)\n",
        "\n",
        "  df.drop(['Restaurant_latitude','Restaurant_longitude','Delivery_location_latitude','Delivery_location_longitude','Time_Orderd','Time_Order_picked','Order_Date'],axis=1,inplace=True)\n",
        "  \n",
        "def df_transform(df):\n",
        "\n",
        "  weather_le = pickle.load(open( r'/content/drive/MyDrive/datasets/weather_le.pkl', \"rb\" ))\n",
        "  Road_traffic_density_le=pickle.load(open( r'/content/drive/MyDrive/datasets/Road_traffic_density_le.pkl', \"rb\" ))\n",
        "  Type_of_vehicle_le=pickle.load(open( r'/content/drive/MyDrive/datasets/Type_of_vehicle_le.pkl', \"rb\" ))\n",
        "  Festival_le=pickle.load(open( r'/content/drive/MyDrive/datasets/Festival_le.pkl', \"rb\" ))\n",
        "  City_le=pickle.load(open( r'/content/drive/MyDrive/datasets/City_le.pkl', \"rb\" ))\n",
        "  train_SS=pickle.load(open( r'/content/drive/MyDrive/datasets/train_SS.pkl', \"rb\" ))\n",
        "  print(weather_le)\n",
        "  df['Weather'] = weather_le.transform(df['Weather'])\n",
        "\n",
        "  df['Road_traffic_density'] = Road_traffic_density_le.transform(df['Road_traffic_density'])\n",
        "\n",
        "  df['Type_of_vehicle'] = Type_of_vehicle_le.transform(df['Type_of_vehicle'])\n",
        "\n",
        "  df['Festival'] = Festival_le.transform(df['Festival'])\n",
        "\n",
        "  df['City'] = City_le.transform(df['City'])\n",
        "  df = train_SS.transform(df)\n",
        "\n",
        " \n",
        "\n",
        "def predict(df):\n",
        "  model = pickle.load(open( r'/content/drive/MyDrive/datasets/trained_model.pkl', \"rb\" ))\n",
        "  return model.predict(df)\n",
        "\n"
      ],
      "metadata": {
        "id": "bXTyE22fvWHh"
      },
      "execution_count": null,
      "outputs": []
    },
    {
      "cell_type": "markdown",
      "source": [],
      "metadata": {
        "id": "Zxlvby6ta4l0"
      }
    },
    {
      "cell_type": "code",
      "source": [
        "train_df['Weather'].value_counts(dropna = False)"
      ],
      "metadata": {
        "colab": {
          "base_uri": "https://localhost:8080/"
        },
        "id": "pt7iygbib90W",
        "outputId": "233e9faf-44da-49b5-eeac-8c1694b49641"
      },
      "execution_count": null,
      "outputs": [
        {
          "output_type": "execute_result",
          "data": {
            "text/plain": [
              "Fog           7741\n",
              "Stormy        7681\n",
              "Cloudy        7645\n",
              "Sandstorms    7598\n",
              "Windy         7536\n",
              "Sunny         7392\n",
              "Name: Weather, dtype: int64"
            ]
          },
          "metadata": {},
          "execution_count": 22
        }
      ]
    },
    {
      "cell_type": "code",
      "source": [
        "train_df[train_df['City'] == 'Metropolitian']['Weather'].value_counts()"
      ],
      "metadata": {
        "colab": {
          "base_uri": "https://localhost:8080/"
        },
        "id": "DpvEyEZ4ZCmH",
        "outputId": "5a4f0485-f560-467a-d5af-f395f397f86e"
      },
      "execution_count": null,
      "outputs": [
        {
          "output_type": "execute_result",
          "data": {
            "text/plain": [
              "Fog           5888\n",
              "Cloudy        5769\n",
              "Stormy        5664\n",
              "Windy         5603\n",
              "Sandstorms    5581\n",
              "Sunny         5112\n",
              "Name: Weather, dtype: int64"
            ]
          },
          "metadata": {},
          "execution_count": 14
        }
      ]
    },
    {
      "cell_type": "code",
      "source": [
        "train_df.isna().sum()"
      ],
      "metadata": {
        "colab": {
          "base_uri": "https://localhost:8080/"
        },
        "id": "OZfF3XFTb93D",
        "outputId": "623b56e0-7a7f-4d07-8a6f-423eef8de7c9"
      },
      "execution_count": null,
      "outputs": [
        {
          "output_type": "execute_result",
          "data": {
            "text/plain": [
              "Unnamed: 0                        0\n",
              "ID                                0\n",
              "Delivery_person_ID                0\n",
              "Delivery_person_Age            1854\n",
              "Delivery_person_Ratings        1908\n",
              "Restaurant_latitude               0\n",
              "Restaurant_longitude              0\n",
              "Delivery_location_latitude        0\n",
              "Delivery_location_longitude       0\n",
              "Order_Date                        0\n",
              "Time_Orderd                    1731\n",
              "Time_Order_picked                 0\n",
              "Weather                         616\n",
              "Road_traffic_density            601\n",
              "Vehicle_condition                 0\n",
              "Type_of_order                     0\n",
              "Type_of_vehicle                   0\n",
              "multiple_deliveries             993\n",
              "Festival                        228\n",
              "City                           1200\n",
              "Time_taken                        0\n",
              "Name:                             0\n",
              "dtype: int64"
            ]
          },
          "metadata": {},
          "execution_count": 9
        }
      ]
    },
    {
      "cell_type": "code",
      "source": [
        "test_df.isna().sum()"
      ],
      "metadata": {
        "colab": {
          "base_uri": "https://localhost:8080/"
        },
        "id": "V0G5axDdMzB8",
        "outputId": "4fd3f094-1bc1-4016-e3e6-129de5ca5e64"
      },
      "execution_count": null,
      "outputs": [
        {
          "output_type": "execute_result",
          "data": {
            "text/plain": [
              "Unnamed: 0                       0\n",
              "ID                               0\n",
              "Delivery_person_ID               0\n",
              "Delivery_person_Age            491\n",
              "Delivery_person_Ratings        507\n",
              "Restaurant_latitude              0\n",
              "Restaurant_longitude             0\n",
              "Delivery_location_latitude       0\n",
              "Delivery_location_longitude      0\n",
              "Order_Date                       0\n",
              "Time_Orderd                    444\n",
              "Time_Order_picked                0\n",
              "Weather                        158\n",
              "Road_traffic_density           154\n",
              "Vehicle_condition                0\n",
              "Type_of_order                    0\n",
              "Type_of_vehicle                  0\n",
              "multiple_deliveries            238\n",
              "Festival                        65\n",
              "City                           324\n",
              "Name:                            0\n",
              "dtype: int64"
            ]
          },
          "metadata": {},
          "execution_count": 44
        }
      ]
    },
    {
      "cell_type": "code",
      "source": [
        "train_df['Delivery_person_Age'].value_counts(dropna = False)"
      ],
      "metadata": {
        "colab": {
          "base_uri": "https://localhost:8080/"
        },
        "id": "DNjoqXX4cj-w",
        "outputId": "f6d94e4b-01b8-42b3-faf6-39457573d506"
      },
      "execution_count": null,
      "outputs": [
        {
          "output_type": "execute_result",
          "data": {
            "text/plain": [
              "35.0    2262\n",
              "36.0    2260\n",
              "37.0    2227\n",
              "30.0    2226\n",
              "38.0    2219\n",
              "24.0    2210\n",
              "32.0    2202\n",
              "22.0    2196\n",
              "29.0    2191\n",
              "33.0    2187\n",
              "28.0    2179\n",
              "25.0    2174\n",
              "34.0    2166\n",
              "26.0    2159\n",
              "21.0    2153\n",
              "27.0    2150\n",
              "39.0    2144\n",
              "20.0    2136\n",
              "31.0    2120\n",
              "23.0    2087\n",
              "NaN     1854\n",
              "50.0      53\n",
              "15.0      38\n",
              "Name: Delivery_person_Age, dtype: int64"
            ]
          },
          "metadata": {},
          "execution_count": 10
        }
      ]
    },
    {
      "cell_type": "code",
      "source": [
        "age_mean = round(np.nanmean(train_df['Delivery_person_Age']))\n",
        "train_df['Delivery_person_Age'].fillna(age_mean,inplace=True)"
      ],
      "metadata": {
        "id": "eSHPa9U9du4Q"
      },
      "execution_count": null,
      "outputs": []
    },
    {
      "cell_type": "code",
      "source": [
        "train_df['multiple_deliveries'].value_counts(dropna = False)"
      ],
      "metadata": {
        "colab": {
          "base_uri": "https://localhost:8080/"
        },
        "id": "udJ2n1J-ckai",
        "outputId": "63d46bc9-5bf3-4346-f333-a971d1805757"
      },
      "execution_count": null,
      "outputs": [
        {
          "output_type": "execute_result",
          "data": {
            "text/plain": [
              "1.0    28159\n",
              "0.0    14095\n",
              "2.0     1985\n",
              "NaN      993\n",
              "3.0      361\n",
              "Name: multiple_deliveries, dtype: int64"
            ]
          },
          "metadata": {},
          "execution_count": 7
        }
      ]
    },
    {
      "cell_type": "code",
      "source": [
        "train_df['multiple_deliveries'].fillna(0.0,inplace=True)"
      ],
      "metadata": {
        "id": "At-G2tZSdtlu"
      },
      "execution_count": null,
      "outputs": []
    },
    {
      "cell_type": "code",
      "source": [
        "avg_rate = np.nanmean(train_df['Delivery_person_Ratings'])\n",
        "train_df['Delivery_person_Ratings'].fillna(round(avg_rate, 1),inplace=True)"
      ],
      "metadata": {
        "id": "MtIVBTnxckdG"
      },
      "execution_count": null,
      "outputs": []
    },
    {
      "cell_type": "code",
      "source": [
        "train_df['Time_Orderd'].value_counts(dropna = False)"
      ],
      "metadata": {
        "colab": {
          "base_uri": "https://localhost:8080/"
        },
        "id": "G-LeVZW_ckew",
        "outputId": "94b85d78-8f56-43af-de4c-a9ab6337b93a"
      },
      "execution_count": null,
      "outputs": [
        {
          "output_type": "execute_result",
          "data": {
            "text/plain": [
              "NaN      1731\n",
              "21:55     461\n",
              "17:55     456\n",
              "19:60     449\n",
              "22:20     448\n",
              "         ... \n",
              "12:25      57\n",
              "14:15      56\n",
              "15:60      53\n",
              "13:20      52\n",
              "16:30      51\n",
              "Name: Time_Orderd, Length: 177, dtype: int64"
            ]
          },
          "metadata": {},
          "execution_count": 10
        }
      ]
    },
    {
      "cell_type": "code",
      "source": [
        "hr = str(int(np.median(list(map(lambda x: int(str(x).split(':')[0]),train_df['Time_Orderd'].dropna())))))\n",
        "min=str(int(np.median(list(map(lambda x: int(str(x).split(':')[1]),train_df['Time_Orderd'].dropna())))))\n",
        "train_df['Time_Orderd'].fillna(hr+':'+min,inplace=True)"
      ],
      "metadata": {
        "id": "Qujc_QQJckgl"
      },
      "execution_count": null,
      "outputs": []
    },
    {
      "cell_type": "code",
      "source": [],
      "metadata": {
        "id": "YVxYpx5ijFE3"
      },
      "execution_count": null,
      "outputs": []
    },
    {
      "cell_type": "code",
      "source": [
        "train_df['Weather'].value_counts(dropna = False)"
      ],
      "metadata": {
        "colab": {
          "base_uri": "https://localhost:8080/"
        },
        "id": "nYaSIMhgckiu",
        "outputId": "b2b6d909-72b6-429a-a1f6-6e7e2fc8d122"
      },
      "execution_count": null,
      "outputs": [
        {
          "output_type": "execute_result",
          "data": {
            "text/plain": [
              "Fog           7654\n",
              "Stormy        7586\n",
              "Cloudy        7536\n",
              "Sandstorms    7495\n",
              "Windy         7422\n",
              "Sunny         7284\n",
              "NaN            616\n",
              "Name: Weather, dtype: int64"
            ]
          },
          "metadata": {},
          "execution_count": 12
        }
      ]
    },
    {
      "cell_type": "code",
      "source": [
        "train_df['Weather'].dropna(inplace=True)"
      ],
      "metadata": {
        "id": "vS0iuPppcko5"
      },
      "execution_count": null,
      "outputs": []
    },
    {
      "cell_type": "code",
      "source": [
        "train_df['Road_traffic_density'].value_counts(dropna = False)"
      ],
      "metadata": {
        "colab": {
          "base_uri": "https://localhost:8080/"
        },
        "id": "FDhiKR5LhzuL",
        "outputId": "a9039031-ec4e-451e-af6c-3068fc05bbf8"
      },
      "execution_count": null,
      "outputs": [
        {
          "output_type": "execute_result",
          "data": {
            "text/plain": [
              "Low       15477\n",
              "Jam       14143\n",
              "Medium    10947\n",
              "High       4425\n",
              "NaN         601\n",
              "Name: Road_traffic_density, dtype: int64"
            ]
          },
          "metadata": {},
          "execution_count": 14
        }
      ]
    },
    {
      "cell_type": "code",
      "source": [
        "train_df['Road_traffic_density'].fillna('Medium',inplace=True)"
      ],
      "metadata": {
        "id": "OOhF1U12hzwd"
      },
      "execution_count": null,
      "outputs": []
    },
    {
      "cell_type": "code",
      "source": [
        "train_df['Festival'].value_counts(dropna = False)"
      ],
      "metadata": {
        "colab": {
          "base_uri": "https://localhost:8080/"
        },
        "id": "GXDLiGijhz1H",
        "outputId": "19cac19e-8263-4422-c3ad-1dd31d22e743"
      },
      "execution_count": null,
      "outputs": [
        {
          "output_type": "execute_result",
          "data": {
            "text/plain": [
              "No     44469\n",
              "Yes      896\n",
              "NaN      228\n",
              "Name: Festival, dtype: int64"
            ]
          },
          "metadata": {},
          "execution_count": 16
        }
      ]
    },
    {
      "cell_type": "code",
      "source": [
        "train_df['Festival'].fillna('No',inplace=True)"
      ],
      "metadata": {
        "id": "3aannwjnhz4c"
      },
      "execution_count": null,
      "outputs": []
    },
    {
      "cell_type": "code",
      "source": [
        "train_df['City'].value_counts(dropna = False)"
      ],
      "metadata": {
        "colab": {
          "base_uri": "https://localhost:8080/"
        },
        "id": "76J32tH2hz6J",
        "outputId": "2877be23-a995-4cc3-866f-04c152effc04"
      },
      "execution_count": null,
      "outputs": [
        {
          "output_type": "execute_result",
          "data": {
            "text/plain": [
              "Metropolitian    34093\n",
              "Urban            10136\n",
              "NaN               1200\n",
              "Semi-Urban         164\n",
              "Name: City, dtype: int64"
            ]
          },
          "metadata": {},
          "execution_count": 18
        }
      ]
    },
    {
      "cell_type": "code",
      "source": [
        "print(np.mean(train_df[train_df['City'].isna()]['Time_taken']))\n",
        "print(np.mean(train_df[train_df['City']=='Metropolitian']['Time_taken']))\n",
        "print(np.mean(train_df[train_df['City']=='Urban']['Time_taken']))"
      ],
      "metadata": {
        "colab": {
          "base_uri": "https://localhost:8080/"
        },
        "id": "Iar5fCQPhz8b",
        "outputId": "4ed0d0e3-0b1d-4311-8c39-b5a1f371e18d"
      },
      "execution_count": null,
      "outputs": [
        {
          "output_type": "stream",
          "name": "stdout",
          "text": [
            "22.058333333333334\n",
            "27.315225999472034\n",
            "22.984017363851617\n"
          ]
        }
      ]
    },
    {
      "cell_type": "code",
      "source": [
        "train_df['City'].fillna('Urban',inplace=True)"
      ],
      "metadata": {
        "id": "0h0pk7Tohz-E"
      },
      "execution_count": null,
      "outputs": []
    },
    {
      "cell_type": "code",
      "source": [
        "train_df.dropna(inplace=True)"
      ],
      "metadata": {
        "id": "Ob0kqBkxklXk"
      },
      "execution_count": null,
      "outputs": []
    },
    {
      "cell_type": "code",
      "source": [
        "train_df.isna().sum()"
      ],
      "metadata": {
        "colab": {
          "base_uri": "https://localhost:8080/"
        },
        "id": "YaLEC7rghz_0",
        "outputId": "9d081234-c83e-4651-db5f-f0f3ebcacf2a"
      },
      "execution_count": null,
      "outputs": [
        {
          "output_type": "execute_result",
          "data": {
            "text/plain": [
              "Unnamed: 0                     0\n",
              "ID                             0\n",
              "Delivery_person_ID             0\n",
              "Delivery_person_Age            0\n",
              "Delivery_person_Ratings        0\n",
              "Restaurant_latitude            0\n",
              "Restaurant_longitude           0\n",
              "Delivery_location_latitude     0\n",
              "Delivery_location_longitude    0\n",
              "Order_Date                     0\n",
              "Time_Orderd                    0\n",
              "Time_Order_picked              0\n",
              "Weather                        0\n",
              "Road_traffic_density           0\n",
              "Vehicle_condition              0\n",
              "Type_of_order                  0\n",
              "Type_of_vehicle                0\n",
              "multiple_deliveries            0\n",
              "Festival                       0\n",
              "City                           0\n",
              "Time_taken                     0\n",
              "Name:                          0\n",
              "dtype: int64"
            ]
          },
          "metadata": {},
          "execution_count": 22
        }
      ]
    },
    {
      "cell_type": "code",
      "source": [
        "train_df.drop(['Unnamed: 0','Name:','ID','Delivery_person_ID','Type_of_order'],inplace =True,axis= 1)"
      ],
      "metadata": {
        "id": "YsrP4Y6NoTAc"
      },
      "execution_count": null,
      "outputs": []
    },
    {
      "cell_type": "code",
      "source": [
        "train_df.head()"
      ],
      "metadata": {
        "colab": {
          "base_uri": "https://localhost:8080/",
          "height": 270
        },
        "id": "ulDy4OX6oBbR",
        "outputId": "dacb98e3-8f02-4443-a5e8-e27d72ef6bb3"
      },
      "execution_count": null,
      "outputs": [
        {
          "output_type": "execute_result",
          "data": {
            "text/plain": [
              "   Delivery_person_Age  Delivery_person_Ratings  Restaurant_latitude  \\\n",
              "0                 37.0                      4.9            22.745049   \n",
              "1                 34.0                      4.5            12.913041   \n",
              "2                 23.0                      4.4            12.914264   \n",
              "3                 38.0                      4.7            11.003669   \n",
              "4                 32.0                      4.6            12.972793   \n",
              "\n",
              "   Restaurant_longitude  Delivery_location_latitude  \\\n",
              "0             75.892471                   22.765049   \n",
              "1             77.683237                   13.043041   \n",
              "2             77.678400                   12.924264   \n",
              "3             76.976494                   11.053669   \n",
              "4             80.249982                   13.012793   \n",
              "\n",
              "   Delivery_location_longitude  Order_Date Time_Orderd Time_Order_picked  \\\n",
              "0                    75.912471  19-03-2022       11:30             11:45   \n",
              "1                    77.813237  25-03-2022       19:45             19:50   \n",
              "2                    77.688400  19-03-2022        8:30              8:45   \n",
              "3                    77.026494  05-04-2022       17:60             18:10   \n",
              "4                    80.289982  26-03-2022       13:30             13:45   \n",
              "\n",
              "      Weather Road_traffic_density  Vehicle_condition Type_of_vehicle  \\\n",
              "0       Sunny                 High                  2      motorcycle   \n",
              "1      Stormy                  Jam                  2         scooter   \n",
              "2  Sandstorms                  Low                  0      motorcycle   \n",
              "3       Sunny               Medium                  0      motorcycle   \n",
              "4      Cloudy                 High                  1         scooter   \n",
              "\n",
              "   multiple_deliveries Festival           City  Time_taken  \n",
              "0                  0.0       No          Urban        24.0  \n",
              "1                  1.0       No  Metropolitian        33.0  \n",
              "2                  1.0       No          Urban        26.0  \n",
              "3                  1.0       No  Metropolitian        21.0  \n",
              "4                  1.0       No  Metropolitian        30.0  "
            ],
            "text/html": [
              "\n",
              "  <div id=\"df-a230a671-473b-4f6e-b2c6-a35bb47adea8\">\n",
              "    <div class=\"colab-df-container\">\n",
              "      <div>\n",
              "<style scoped>\n",
              "    .dataframe tbody tr th:only-of-type {\n",
              "        vertical-align: middle;\n",
              "    }\n",
              "\n",
              "    .dataframe tbody tr th {\n",
              "        vertical-align: top;\n",
              "    }\n",
              "\n",
              "    .dataframe thead th {\n",
              "        text-align: right;\n",
              "    }\n",
              "</style>\n",
              "<table border=\"1\" class=\"dataframe\">\n",
              "  <thead>\n",
              "    <tr style=\"text-align: right;\">\n",
              "      <th></th>\n",
              "      <th>Delivery_person_Age</th>\n",
              "      <th>Delivery_person_Ratings</th>\n",
              "      <th>Restaurant_latitude</th>\n",
              "      <th>Restaurant_longitude</th>\n",
              "      <th>Delivery_location_latitude</th>\n",
              "      <th>Delivery_location_longitude</th>\n",
              "      <th>Order_Date</th>\n",
              "      <th>Time_Orderd</th>\n",
              "      <th>Time_Order_picked</th>\n",
              "      <th>Weather</th>\n",
              "      <th>Road_traffic_density</th>\n",
              "      <th>Vehicle_condition</th>\n",
              "      <th>Type_of_vehicle</th>\n",
              "      <th>multiple_deliveries</th>\n",
              "      <th>Festival</th>\n",
              "      <th>City</th>\n",
              "      <th>Time_taken</th>\n",
              "    </tr>\n",
              "  </thead>\n",
              "  <tbody>\n",
              "    <tr>\n",
              "      <th>0</th>\n",
              "      <td>37.0</td>\n",
              "      <td>4.9</td>\n",
              "      <td>22.745049</td>\n",
              "      <td>75.892471</td>\n",
              "      <td>22.765049</td>\n",
              "      <td>75.912471</td>\n",
              "      <td>19-03-2022</td>\n",
              "      <td>11:30</td>\n",
              "      <td>11:45</td>\n",
              "      <td>Sunny</td>\n",
              "      <td>High</td>\n",
              "      <td>2</td>\n",
              "      <td>motorcycle</td>\n",
              "      <td>0.0</td>\n",
              "      <td>No</td>\n",
              "      <td>Urban</td>\n",
              "      <td>24.0</td>\n",
              "    </tr>\n",
              "    <tr>\n",
              "      <th>1</th>\n",
              "      <td>34.0</td>\n",
              "      <td>4.5</td>\n",
              "      <td>12.913041</td>\n",
              "      <td>77.683237</td>\n",
              "      <td>13.043041</td>\n",
              "      <td>77.813237</td>\n",
              "      <td>25-03-2022</td>\n",
              "      <td>19:45</td>\n",
              "      <td>19:50</td>\n",
              "      <td>Stormy</td>\n",
              "      <td>Jam</td>\n",
              "      <td>2</td>\n",
              "      <td>scooter</td>\n",
              "      <td>1.0</td>\n",
              "      <td>No</td>\n",
              "      <td>Metropolitian</td>\n",
              "      <td>33.0</td>\n",
              "    </tr>\n",
              "    <tr>\n",
              "      <th>2</th>\n",
              "      <td>23.0</td>\n",
              "      <td>4.4</td>\n",
              "      <td>12.914264</td>\n",
              "      <td>77.678400</td>\n",
              "      <td>12.924264</td>\n",
              "      <td>77.688400</td>\n",
              "      <td>19-03-2022</td>\n",
              "      <td>8:30</td>\n",
              "      <td>8:45</td>\n",
              "      <td>Sandstorms</td>\n",
              "      <td>Low</td>\n",
              "      <td>0</td>\n",
              "      <td>motorcycle</td>\n",
              "      <td>1.0</td>\n",
              "      <td>No</td>\n",
              "      <td>Urban</td>\n",
              "      <td>26.0</td>\n",
              "    </tr>\n",
              "    <tr>\n",
              "      <th>3</th>\n",
              "      <td>38.0</td>\n",
              "      <td>4.7</td>\n",
              "      <td>11.003669</td>\n",
              "      <td>76.976494</td>\n",
              "      <td>11.053669</td>\n",
              "      <td>77.026494</td>\n",
              "      <td>05-04-2022</td>\n",
              "      <td>17:60</td>\n",
              "      <td>18:10</td>\n",
              "      <td>Sunny</td>\n",
              "      <td>Medium</td>\n",
              "      <td>0</td>\n",
              "      <td>motorcycle</td>\n",
              "      <td>1.0</td>\n",
              "      <td>No</td>\n",
              "      <td>Metropolitian</td>\n",
              "      <td>21.0</td>\n",
              "    </tr>\n",
              "    <tr>\n",
              "      <th>4</th>\n",
              "      <td>32.0</td>\n",
              "      <td>4.6</td>\n",
              "      <td>12.972793</td>\n",
              "      <td>80.249982</td>\n",
              "      <td>13.012793</td>\n",
              "      <td>80.289982</td>\n",
              "      <td>26-03-2022</td>\n",
              "      <td>13:30</td>\n",
              "      <td>13:45</td>\n",
              "      <td>Cloudy</td>\n",
              "      <td>High</td>\n",
              "      <td>1</td>\n",
              "      <td>scooter</td>\n",
              "      <td>1.0</td>\n",
              "      <td>No</td>\n",
              "      <td>Metropolitian</td>\n",
              "      <td>30.0</td>\n",
              "    </tr>\n",
              "  </tbody>\n",
              "</table>\n",
              "</div>\n",
              "      <button class=\"colab-df-convert\" onclick=\"convertToInteractive('df-a230a671-473b-4f6e-b2c6-a35bb47adea8')\"\n",
              "              title=\"Convert this dataframe to an interactive table.\"\n",
              "              style=\"display:none;\">\n",
              "        \n",
              "  <svg xmlns=\"http://www.w3.org/2000/svg\" height=\"24px\"viewBox=\"0 0 24 24\"\n",
              "       width=\"24px\">\n",
              "    <path d=\"M0 0h24v24H0V0z\" fill=\"none\"/>\n",
              "    <path d=\"M18.56 5.44l.94 2.06.94-2.06 2.06-.94-2.06-.94-.94-2.06-.94 2.06-2.06.94zm-11 1L8.5 8.5l.94-2.06 2.06-.94-2.06-.94L8.5 2.5l-.94 2.06-2.06.94zm10 10l.94 2.06.94-2.06 2.06-.94-2.06-.94-.94-2.06-.94 2.06-2.06.94z\"/><path d=\"M17.41 7.96l-1.37-1.37c-.4-.4-.92-.59-1.43-.59-.52 0-1.04.2-1.43.59L10.3 9.45l-7.72 7.72c-.78.78-.78 2.05 0 2.83L4 21.41c.39.39.9.59 1.41.59.51 0 1.02-.2 1.41-.59l7.78-7.78 2.81-2.81c.8-.78.8-2.07 0-2.86zM5.41 20L4 18.59l7.72-7.72 1.47 1.35L5.41 20z\"/>\n",
              "  </svg>\n",
              "      </button>\n",
              "      \n",
              "  <style>\n",
              "    .colab-df-container {\n",
              "      display:flex;\n",
              "      flex-wrap:wrap;\n",
              "      gap: 12px;\n",
              "    }\n",
              "\n",
              "    .colab-df-convert {\n",
              "      background-color: #E8F0FE;\n",
              "      border: none;\n",
              "      border-radius: 50%;\n",
              "      cursor: pointer;\n",
              "      display: none;\n",
              "      fill: #1967D2;\n",
              "      height: 32px;\n",
              "      padding: 0 0 0 0;\n",
              "      width: 32px;\n",
              "    }\n",
              "\n",
              "    .colab-df-convert:hover {\n",
              "      background-color: #E2EBFA;\n",
              "      box-shadow: 0px 1px 2px rgba(60, 64, 67, 0.3), 0px 1px 3px 1px rgba(60, 64, 67, 0.15);\n",
              "      fill: #174EA6;\n",
              "    }\n",
              "\n",
              "    [theme=dark] .colab-df-convert {\n",
              "      background-color: #3B4455;\n",
              "      fill: #D2E3FC;\n",
              "    }\n",
              "\n",
              "    [theme=dark] .colab-df-convert:hover {\n",
              "      background-color: #434B5C;\n",
              "      box-shadow: 0px 1px 3px 1px rgba(0, 0, 0, 0.15);\n",
              "      filter: drop-shadow(0px 1px 2px rgba(0, 0, 0, 0.3));\n",
              "      fill: #FFFFFF;\n",
              "    }\n",
              "  </style>\n",
              "\n",
              "      <script>\n",
              "        const buttonEl =\n",
              "          document.querySelector('#df-a230a671-473b-4f6e-b2c6-a35bb47adea8 button.colab-df-convert');\n",
              "        buttonEl.style.display =\n",
              "          google.colab.kernel.accessAllowed ? 'block' : 'none';\n",
              "\n",
              "        async function convertToInteractive(key) {\n",
              "          const element = document.querySelector('#df-a230a671-473b-4f6e-b2c6-a35bb47adea8');\n",
              "          const dataTable =\n",
              "            await google.colab.kernel.invokeFunction('convertToInteractive',\n",
              "                                                     [key], {});\n",
              "          if (!dataTable) return;\n",
              "\n",
              "          const docLinkHtml = 'Like what you see? Visit the ' +\n",
              "            '<a target=\"_blank\" href=https://colab.research.google.com/notebooks/data_table.ipynb>data table notebook</a>'\n",
              "            + ' to learn more about interactive tables.';\n",
              "          element.innerHTML = '';\n",
              "          dataTable['output_type'] = 'display_data';\n",
              "          await google.colab.output.renderOutput(dataTable, element);\n",
              "          const docLink = document.createElement('div');\n",
              "          docLink.innerHTML = docLinkHtml;\n",
              "          element.appendChild(docLink);\n",
              "        }\n",
              "      </script>\n",
              "    </div>\n",
              "  </div>\n",
              "  "
            ]
          },
          "metadata": {},
          "execution_count": 24
        }
      ]
    },
    {
      "cell_type": "code",
      "source": [
        "def getdistance(df):\n",
        "  for ind,row in df.iterrows():\n",
        "    res_lat = abs(row['Restaurant_latitude'])\n",
        "    res_long = abs(row['Restaurant_longitude'])\n",
        "    del_lat = abs(row['Delivery_location_latitude'])\n",
        "    del_long = abs(row['Delivery_location_longitude'])\n",
        "    distance = abs(res_lat-del_lat) + abs(res_long-del_long)\n",
        "    df.at[ind,'distance'] = distance*100\n",
        "getdistance(train_df)"
      ],
      "metadata": {
        "id": "BF0Ek3XOh0Ei"
      },
      "execution_count": null,
      "outputs": []
    },
    {
      "cell_type": "code",
      "source": [
        "train_df[train_df['distance'] == max(train_df['distance'])]"
      ],
      "metadata": {
        "colab": {
          "base_uri": "https://localhost:8080/",
          "height": 488
        },
        "id": "aP6Pl82QtJzF",
        "outputId": "7ad934b1-4d63-4e26-f38a-da37f002ceee"
      },
      "execution_count": null,
      "outputs": [
        {
          "output_type": "execute_result",
          "data": {
            "text/plain": [
              "       Delivery_person_Age  Delivery_person_Ratings  Restaurant_latitude  \\\n",
              "219                   26.0                      4.9            26.911927   \n",
              "226                   36.0                      4.4            26.846156   \n",
              "227                   26.0                      4.7            26.913987   \n",
              "288                   37.0                      3.8            26.849596   \n",
              "467                   30.0                      4.3            26.888420   \n",
              "...                    ...                      ...                  ...   \n",
              "45313                 34.0                      4.9            27.161661   \n",
              "45369                 20.0                      4.9            26.891191   \n",
              "45372                 34.0                      3.8            26.914142   \n",
              "45405                 30.0                      4.6            26.470000   \n",
              "45513                 33.0                      4.9            30.335259   \n",
              "\n",
              "       Restaurant_longitude  Delivery_location_latitude  \\\n",
              "219               75.797282                   27.051927   \n",
              "226               75.802300                   26.986156   \n",
              "227               75.752891                   27.053987   \n",
              "288               75.800512                   26.989596   \n",
              "467               75.800689                   27.028420   \n",
              "...                     ...                         ...   \n",
              "45313             78.011544                   27.301661   \n",
              "45369             75.802083                   27.031191   \n",
              "45372             75.805704                   27.054142   \n",
              "45405             80.350000                   26.610000   \n",
              "45513             78.053162                   30.475259   \n",
              "\n",
              "       Delivery_location_longitude  Order_Date Time_Orderd Time_Order_picked  \\\n",
              "219                      75.937282  29-03-2022       22:55             22:60   \n",
              "226                      75.942300  29-03-2022       23:35             23:50   \n",
              "227                      75.892891  04-03-2022       19:35             19:40   \n",
              "288                      75.940512  04-04-2022       20:45             20:55   \n",
              "467                      75.940689  18-03-2022       19:35             19:45   \n",
              "...                            ...         ...         ...               ...   \n",
              "45313                    78.151544  18-02-2022       22:15             22:30   \n",
              "45369                    75.942083  02-03-2022       19:15             19:25   \n",
              "45372                    75.945704  25-03-2022       19:45             19:60   \n",
              "45405                    80.490000  12-02-2022       19:35             19:25   \n",
              "45513                    78.193162  16-02-2022       18:10             18:20   \n",
              "\n",
              "          Weather Road_traffic_density  Vehicle_condition   Type_of_vehicle  \\\n",
              "219        Stormy                  Low                  2           scooter   \n",
              "226           Fog                  Low                  0        motorcycle   \n",
              "227        Cloudy                  Jam                  0        motorcycle   \n",
              "288    Sandstorms                  Jam                  1        motorcycle   \n",
              "467         Windy                  Jam                  0        motorcycle   \n",
              "...           ...                  ...                ...               ...   \n",
              "45313      Stormy                  Low                  0        motorcycle   \n",
              "45369       Windy                  Jam                  1        motorcycle   \n",
              "45372  Sandstorms                  Jam                  2           scooter   \n",
              "45405       Windy                  Jam                  1           scooter   \n",
              "45513         Fog               Medium                  2  electric_scooter   \n",
              "\n",
              "       multiple_deliveries Festival           City  Time_taken  distance  \n",
              "219                    1.0       No  Metropolitian        18.0      28.0  \n",
              "226                    0.0       No  Metropolitian        37.0      28.0  \n",
              "227                    1.0       No  Metropolitian        43.0      28.0  \n",
              "288                    1.0       No  Metropolitian        42.0      28.0  \n",
              "467                    1.0       No          Urban        42.0      28.0  \n",
              "...                    ...      ...            ...         ...       ...  \n",
              "45313                  1.0       No  Metropolitian        29.0      28.0  \n",
              "45369                  1.0       No  Metropolitian        25.0      28.0  \n",
              "45372                  2.0       No          Urban        41.0      28.0  \n",
              "45405                  1.0       No  Metropolitian        18.0      28.0  \n",
              "45513                  1.0       No          Urban        41.0      28.0  \n",
              "\n",
              "[507 rows x 18 columns]"
            ],
            "text/html": [
              "\n",
              "  <div id=\"df-6b94518a-5188-46fe-b8ba-b8e798be6992\">\n",
              "    <div class=\"colab-df-container\">\n",
              "      <div>\n",
              "<style scoped>\n",
              "    .dataframe tbody tr th:only-of-type {\n",
              "        vertical-align: middle;\n",
              "    }\n",
              "\n",
              "    .dataframe tbody tr th {\n",
              "        vertical-align: top;\n",
              "    }\n",
              "\n",
              "    .dataframe thead th {\n",
              "        text-align: right;\n",
              "    }\n",
              "</style>\n",
              "<table border=\"1\" class=\"dataframe\">\n",
              "  <thead>\n",
              "    <tr style=\"text-align: right;\">\n",
              "      <th></th>\n",
              "      <th>Delivery_person_Age</th>\n",
              "      <th>Delivery_person_Ratings</th>\n",
              "      <th>Restaurant_latitude</th>\n",
              "      <th>Restaurant_longitude</th>\n",
              "      <th>Delivery_location_latitude</th>\n",
              "      <th>Delivery_location_longitude</th>\n",
              "      <th>Order_Date</th>\n",
              "      <th>Time_Orderd</th>\n",
              "      <th>Time_Order_picked</th>\n",
              "      <th>Weather</th>\n",
              "      <th>Road_traffic_density</th>\n",
              "      <th>Vehicle_condition</th>\n",
              "      <th>Type_of_vehicle</th>\n",
              "      <th>multiple_deliveries</th>\n",
              "      <th>Festival</th>\n",
              "      <th>City</th>\n",
              "      <th>Time_taken</th>\n",
              "      <th>distance</th>\n",
              "    </tr>\n",
              "  </thead>\n",
              "  <tbody>\n",
              "    <tr>\n",
              "      <th>219</th>\n",
              "      <td>26.0</td>\n",
              "      <td>4.9</td>\n",
              "      <td>26.911927</td>\n",
              "      <td>75.797282</td>\n",
              "      <td>27.051927</td>\n",
              "      <td>75.937282</td>\n",
              "      <td>29-03-2022</td>\n",
              "      <td>22:55</td>\n",
              "      <td>22:60</td>\n",
              "      <td>Stormy</td>\n",
              "      <td>Low</td>\n",
              "      <td>2</td>\n",
              "      <td>scooter</td>\n",
              "      <td>1.0</td>\n",
              "      <td>No</td>\n",
              "      <td>Metropolitian</td>\n",
              "      <td>18.0</td>\n",
              "      <td>28.0</td>\n",
              "    </tr>\n",
              "    <tr>\n",
              "      <th>226</th>\n",
              "      <td>36.0</td>\n",
              "      <td>4.4</td>\n",
              "      <td>26.846156</td>\n",
              "      <td>75.802300</td>\n",
              "      <td>26.986156</td>\n",
              "      <td>75.942300</td>\n",
              "      <td>29-03-2022</td>\n",
              "      <td>23:35</td>\n",
              "      <td>23:50</td>\n",
              "      <td>Fog</td>\n",
              "      <td>Low</td>\n",
              "      <td>0</td>\n",
              "      <td>motorcycle</td>\n",
              "      <td>0.0</td>\n",
              "      <td>No</td>\n",
              "      <td>Metropolitian</td>\n",
              "      <td>37.0</td>\n",
              "      <td>28.0</td>\n",
              "    </tr>\n",
              "    <tr>\n",
              "      <th>227</th>\n",
              "      <td>26.0</td>\n",
              "      <td>4.7</td>\n",
              "      <td>26.913987</td>\n",
              "      <td>75.752891</td>\n",
              "      <td>27.053987</td>\n",
              "      <td>75.892891</td>\n",
              "      <td>04-03-2022</td>\n",
              "      <td>19:35</td>\n",
              "      <td>19:40</td>\n",
              "      <td>Cloudy</td>\n",
              "      <td>Jam</td>\n",
              "      <td>0</td>\n",
              "      <td>motorcycle</td>\n",
              "      <td>1.0</td>\n",
              "      <td>No</td>\n",
              "      <td>Metropolitian</td>\n",
              "      <td>43.0</td>\n",
              "      <td>28.0</td>\n",
              "    </tr>\n",
              "    <tr>\n",
              "      <th>288</th>\n",
              "      <td>37.0</td>\n",
              "      <td>3.8</td>\n",
              "      <td>26.849596</td>\n",
              "      <td>75.800512</td>\n",
              "      <td>26.989596</td>\n",
              "      <td>75.940512</td>\n",
              "      <td>04-04-2022</td>\n",
              "      <td>20:45</td>\n",
              "      <td>20:55</td>\n",
              "      <td>Sandstorms</td>\n",
              "      <td>Jam</td>\n",
              "      <td>1</td>\n",
              "      <td>motorcycle</td>\n",
              "      <td>1.0</td>\n",
              "      <td>No</td>\n",
              "      <td>Metropolitian</td>\n",
              "      <td>42.0</td>\n",
              "      <td>28.0</td>\n",
              "    </tr>\n",
              "    <tr>\n",
              "      <th>467</th>\n",
              "      <td>30.0</td>\n",
              "      <td>4.3</td>\n",
              "      <td>26.888420</td>\n",
              "      <td>75.800689</td>\n",
              "      <td>27.028420</td>\n",
              "      <td>75.940689</td>\n",
              "      <td>18-03-2022</td>\n",
              "      <td>19:35</td>\n",
              "      <td>19:45</td>\n",
              "      <td>Windy</td>\n",
              "      <td>Jam</td>\n",
              "      <td>0</td>\n",
              "      <td>motorcycle</td>\n",
              "      <td>1.0</td>\n",
              "      <td>No</td>\n",
              "      <td>Urban</td>\n",
              "      <td>42.0</td>\n",
              "      <td>28.0</td>\n",
              "    </tr>\n",
              "    <tr>\n",
              "      <th>...</th>\n",
              "      <td>...</td>\n",
              "      <td>...</td>\n",
              "      <td>...</td>\n",
              "      <td>...</td>\n",
              "      <td>...</td>\n",
              "      <td>...</td>\n",
              "      <td>...</td>\n",
              "      <td>...</td>\n",
              "      <td>...</td>\n",
              "      <td>...</td>\n",
              "      <td>...</td>\n",
              "      <td>...</td>\n",
              "      <td>...</td>\n",
              "      <td>...</td>\n",
              "      <td>...</td>\n",
              "      <td>...</td>\n",
              "      <td>...</td>\n",
              "      <td>...</td>\n",
              "    </tr>\n",
              "    <tr>\n",
              "      <th>45313</th>\n",
              "      <td>34.0</td>\n",
              "      <td>4.9</td>\n",
              "      <td>27.161661</td>\n",
              "      <td>78.011544</td>\n",
              "      <td>27.301661</td>\n",
              "      <td>78.151544</td>\n",
              "      <td>18-02-2022</td>\n",
              "      <td>22:15</td>\n",
              "      <td>22:30</td>\n",
              "      <td>Stormy</td>\n",
              "      <td>Low</td>\n",
              "      <td>0</td>\n",
              "      <td>motorcycle</td>\n",
              "      <td>1.0</td>\n",
              "      <td>No</td>\n",
              "      <td>Metropolitian</td>\n",
              "      <td>29.0</td>\n",
              "      <td>28.0</td>\n",
              "    </tr>\n",
              "    <tr>\n",
              "      <th>45369</th>\n",
              "      <td>20.0</td>\n",
              "      <td>4.9</td>\n",
              "      <td>26.891191</td>\n",
              "      <td>75.802083</td>\n",
              "      <td>27.031191</td>\n",
              "      <td>75.942083</td>\n",
              "      <td>02-03-2022</td>\n",
              "      <td>19:15</td>\n",
              "      <td>19:25</td>\n",
              "      <td>Windy</td>\n",
              "      <td>Jam</td>\n",
              "      <td>1</td>\n",
              "      <td>motorcycle</td>\n",
              "      <td>1.0</td>\n",
              "      <td>No</td>\n",
              "      <td>Metropolitian</td>\n",
              "      <td>25.0</td>\n",
              "      <td>28.0</td>\n",
              "    </tr>\n",
              "    <tr>\n",
              "      <th>45372</th>\n",
              "      <td>34.0</td>\n",
              "      <td>3.8</td>\n",
              "      <td>26.914142</td>\n",
              "      <td>75.805704</td>\n",
              "      <td>27.054142</td>\n",
              "      <td>75.945704</td>\n",
              "      <td>25-03-2022</td>\n",
              "      <td>19:45</td>\n",
              "      <td>19:60</td>\n",
              "      <td>Sandstorms</td>\n",
              "      <td>Jam</td>\n",
              "      <td>2</td>\n",
              "      <td>scooter</td>\n",
              "      <td>2.0</td>\n",
              "      <td>No</td>\n",
              "      <td>Urban</td>\n",
              "      <td>41.0</td>\n",
              "      <td>28.0</td>\n",
              "    </tr>\n",
              "    <tr>\n",
              "      <th>45405</th>\n",
              "      <td>30.0</td>\n",
              "      <td>4.6</td>\n",
              "      <td>26.470000</td>\n",
              "      <td>80.350000</td>\n",
              "      <td>26.610000</td>\n",
              "      <td>80.490000</td>\n",
              "      <td>12-02-2022</td>\n",
              "      <td>19:35</td>\n",
              "      <td>19:25</td>\n",
              "      <td>Windy</td>\n",
              "      <td>Jam</td>\n",
              "      <td>1</td>\n",
              "      <td>scooter</td>\n",
              "      <td>1.0</td>\n",
              "      <td>No</td>\n",
              "      <td>Metropolitian</td>\n",
              "      <td>18.0</td>\n",
              "      <td>28.0</td>\n",
              "    </tr>\n",
              "    <tr>\n",
              "      <th>45513</th>\n",
              "      <td>33.0</td>\n",
              "      <td>4.9</td>\n",
              "      <td>30.335259</td>\n",
              "      <td>78.053162</td>\n",
              "      <td>30.475259</td>\n",
              "      <td>78.193162</td>\n",
              "      <td>16-02-2022</td>\n",
              "      <td>18:10</td>\n",
              "      <td>18:20</td>\n",
              "      <td>Fog</td>\n",
              "      <td>Medium</td>\n",
              "      <td>2</td>\n",
              "      <td>electric_scooter</td>\n",
              "      <td>1.0</td>\n",
              "      <td>No</td>\n",
              "      <td>Urban</td>\n",
              "      <td>41.0</td>\n",
              "      <td>28.0</td>\n",
              "    </tr>\n",
              "  </tbody>\n",
              "</table>\n",
              "<p>507 rows × 18 columns</p>\n",
              "</div>\n",
              "      <button class=\"colab-df-convert\" onclick=\"convertToInteractive('df-6b94518a-5188-46fe-b8ba-b8e798be6992')\"\n",
              "              title=\"Convert this dataframe to an interactive table.\"\n",
              "              style=\"display:none;\">\n",
              "        \n",
              "  <svg xmlns=\"http://www.w3.org/2000/svg\" height=\"24px\"viewBox=\"0 0 24 24\"\n",
              "       width=\"24px\">\n",
              "    <path d=\"M0 0h24v24H0V0z\" fill=\"none\"/>\n",
              "    <path d=\"M18.56 5.44l.94 2.06.94-2.06 2.06-.94-2.06-.94-.94-2.06-.94 2.06-2.06.94zm-11 1L8.5 8.5l.94-2.06 2.06-.94-2.06-.94L8.5 2.5l-.94 2.06-2.06.94zm10 10l.94 2.06.94-2.06 2.06-.94-2.06-.94-.94-2.06-.94 2.06-2.06.94z\"/><path d=\"M17.41 7.96l-1.37-1.37c-.4-.4-.92-.59-1.43-.59-.52 0-1.04.2-1.43.59L10.3 9.45l-7.72 7.72c-.78.78-.78 2.05 0 2.83L4 21.41c.39.39.9.59 1.41.59.51 0 1.02-.2 1.41-.59l7.78-7.78 2.81-2.81c.8-.78.8-2.07 0-2.86zM5.41 20L4 18.59l7.72-7.72 1.47 1.35L5.41 20z\"/>\n",
              "  </svg>\n",
              "      </button>\n",
              "      \n",
              "  <style>\n",
              "    .colab-df-container {\n",
              "      display:flex;\n",
              "      flex-wrap:wrap;\n",
              "      gap: 12px;\n",
              "    }\n",
              "\n",
              "    .colab-df-convert {\n",
              "      background-color: #E8F0FE;\n",
              "      border: none;\n",
              "      border-radius: 50%;\n",
              "      cursor: pointer;\n",
              "      display: none;\n",
              "      fill: #1967D2;\n",
              "      height: 32px;\n",
              "      padding: 0 0 0 0;\n",
              "      width: 32px;\n",
              "    }\n",
              "\n",
              "    .colab-df-convert:hover {\n",
              "      background-color: #E2EBFA;\n",
              "      box-shadow: 0px 1px 2px rgba(60, 64, 67, 0.3), 0px 1px 3px 1px rgba(60, 64, 67, 0.15);\n",
              "      fill: #174EA6;\n",
              "    }\n",
              "\n",
              "    [theme=dark] .colab-df-convert {\n",
              "      background-color: #3B4455;\n",
              "      fill: #D2E3FC;\n",
              "    }\n",
              "\n",
              "    [theme=dark] .colab-df-convert:hover {\n",
              "      background-color: #434B5C;\n",
              "      box-shadow: 0px 1px 3px 1px rgba(0, 0, 0, 0.15);\n",
              "      filter: drop-shadow(0px 1px 2px rgba(0, 0, 0, 0.3));\n",
              "      fill: #FFFFFF;\n",
              "    }\n",
              "  </style>\n",
              "\n",
              "      <script>\n",
              "        const buttonEl =\n",
              "          document.querySelector('#df-6b94518a-5188-46fe-b8ba-b8e798be6992 button.colab-df-convert');\n",
              "        buttonEl.style.display =\n",
              "          google.colab.kernel.accessAllowed ? 'block' : 'none';\n",
              "\n",
              "        async function convertToInteractive(key) {\n",
              "          const element = document.querySelector('#df-6b94518a-5188-46fe-b8ba-b8e798be6992');\n",
              "          const dataTable =\n",
              "            await google.colab.kernel.invokeFunction('convertToInteractive',\n",
              "                                                     [key], {});\n",
              "          if (!dataTable) return;\n",
              "\n",
              "          const docLinkHtml = 'Like what you see? Visit the ' +\n",
              "            '<a target=\"_blank\" href=https://colab.research.google.com/notebooks/data_table.ipynb>data table notebook</a>'\n",
              "            + ' to learn more about interactive tables.';\n",
              "          element.innerHTML = '';\n",
              "          dataTable['output_type'] = 'display_data';\n",
              "          await google.colab.output.renderOutput(dataTable, element);\n",
              "          const docLink = document.createElement('div');\n",
              "          docLink.innerHTML = docLinkHtml;\n",
              "          element.appendChild(docLink);\n",
              "        }\n",
              "      </script>\n",
              "    </div>\n",
              "  </div>\n",
              "  "
            ]
          },
          "metadata": {},
          "execution_count": 26
        }
      ]
    },
    {
      "cell_type": "code",
      "source": [
        "\n",
        "sns.lineplot(x=train_df['distance'],y=train_df['Time_taken'])"
      ],
      "metadata": {
        "colab": {
          "base_uri": "https://localhost:8080/",
          "height": 296
        },
        "id": "5lEDMTOoh0F_",
        "outputId": "5802f7bf-5593-4f95-d07c-c8a9fcda0c15"
      },
      "execution_count": null,
      "outputs": [
        {
          "output_type": "execute_result",
          "data": {
            "text/plain": [
              "<matplotlib.axes._subplots.AxesSubplot at 0x7fadd7383a10>"
            ]
          },
          "metadata": {},
          "execution_count": 27
        },
        {
          "output_type": "display_data",
          "data": {
            "text/plain": [
              "<Figure size 432x288 with 1 Axes>"
            ],
            "image/png": "[encoded data removed]"
          },
          "metadata": {
            "needs_background": "light"
          }
        }
      ]
    },
    {
      "cell_type": "code",
      "source": [
        "def diff(s1, s2):\n",
        "    time1 = int(s1.replace(':',''))\n",
        "    time2 = int(s2.replace(':',''))\n",
        "    hourDiff = time2 // 100 - time1 // 100 - 1;\n",
        " \n",
        "    minDiff = time2 % 100 + (60 - time1 % 100)\n",
        " \n",
        "    if (minDiff >= 60):\n",
        "        hourDiff += 1\n",
        "        minDiff = minDiff - 60\n",
        " \n",
        "    res = hourDiff*60  + minDiff\n",
        "     \n",
        "    return res"
      ],
      "metadata": {
        "id": "85hEgr2vA48x"
      },
      "execution_count": null,
      "outputs": []
    },
    {
      "cell_type": "code",
      "source": [
        "def waittime(df):\n",
        "  for ind,row in df.iterrows():\n",
        "    total_min = diff(row['Time_Orderd'],row['Time_Order_picked'])\n",
        "    if total_min < 0 or total_min >= row['Time_taken']-5:\n",
        "      df.at[ind,'wait_time'] = row['Time_taken']*0.35\n",
        "    elif total_min < 5 and row['Time_taken'] > 15:\n",
        "      df.at[ind,'wait_time'] = 5\n",
        "    else:\n",
        "      df.at[ind,'wait_time'] = total_min\n",
        "waittime(train_df)"
      ],
      "metadata": {
        "id": "ypCc9cjWuOJF"
      },
      "execution_count": null,
      "outputs": []
    },
    {
      "cell_type": "code",
      "source": [
        "sns.lineplot(x=train_df['wait_time'],y=train_df['Time_taken'])"
      ],
      "metadata": {
        "colab": {
          "base_uri": "https://localhost:8080/",
          "height": 297
        },
        "id": "puqe3NSXuOLO",
        "outputId": "ed3a503a-0120-4053-ba9c-d00576e99ead"
      },
      "execution_count": null,
      "outputs": [
        {
          "output_type": "execute_result",
          "data": {
            "text/plain": [
              "<matplotlib.axes._subplots.AxesSubplot at 0x7fadd7363a10>"
            ]
          },
          "metadata": {},
          "execution_count": 30
        },
        {
          "output_type": "display_data",
          "data": {
            "text/plain": [
              "<Figure size 432x288 with 1 Axes>"
            ],
            "image/png": "[encoded data removed]"
          },
          "metadata": {
            "needs_background": "light"
          }
        }
      ]
    },
    {
      "cell_type": "code",
      "source": [
        "train_df.to_csv(r'/content/drive/MyDrive/datasets/train_with_extra.csv',index=False)"
      ],
      "metadata": {
        "id": "OXrCey0k7YBh"
      },
      "execution_count": null,
      "outputs": []
    },
    {
      "cell_type": "code",
      "source": [
        "train_df.drop(['Restaurant_latitude','Restaurant_longitude','Delivery_location_latitude','Delivery_location_longitude','Time_Orderd','Time_Order_picked','Order_Date'],axis=1,inplace=True)"
      ],
      "metadata": {
        "id": "XjJs1tg_uORG"
      },
      "execution_count": null,
      "outputs": []
    },
    {
      "cell_type": "code",
      "source": [
        "train_df.to_csv(r'/content/drive/MyDrive/datasets/train_modified.csv',index=False)"
      ],
      "metadata": {
        "id": "9VA_6uPp7_jx"
      },
      "execution_count": null,
      "outputs": []
    },
    {
      "cell_type": "code",
      "source": [
        "train_df.dtypes"
      ],
      "metadata": {
        "colab": {
          "base_uri": "https://localhost:8080/"
        },
        "id": "VI_07lwu7_l2",
        "outputId": "42fcd0c9-0079-46b3-9b57-adc98f27c6f6"
      },
      "execution_count": null,
      "outputs": [
        {
          "output_type": "execute_result",
          "data": {
            "text/plain": [
              "Delivery_person_Age        float64\n",
              "Delivery_person_Ratings    float64\n",
              "Weather                     object\n",
              "Road_traffic_density        object\n",
              "Vehicle_condition            int64\n",
              "Type_of_vehicle             object\n",
              "multiple_deliveries        float64\n",
              "Festival                    object\n",
              "City                        object\n",
              "Time_taken                 float64\n",
              "distance                   float64\n",
              "wait_time                  float64\n",
              "dtype: object"
            ]
          },
          "metadata": {},
          "execution_count": 33
        }
      ]
    },
    {
      "cell_type": "code",
      "source": [
        "weather_le = LabelEncoder()\n",
        "train_df['Weather'] = weather_le.fit_transform(train_df['Weather'])\n",
        "\n",
        "Road_traffic_density_le = LabelEncoder()\n",
        "train_df['Road_traffic_density'] = Road_traffic_density_le.fit_transform(train_df['Road_traffic_density'])\n",
        "\n",
        "Type_of_vehicle_le  = LabelEncoder()\n",
        "train_df['Type_of_vehicle'] = Type_of_vehicle_le.fit_transform(train_df['Type_of_vehicle'])\n",
        "\n",
        "Festival_le = LabelEncoder()\n",
        "train_df['Festival'] = Festival_le.fit_transform(train_df['Festival'])\n",
        "\n",
        "City_le = LabelEncoder()\n",
        "train_df['City'] = City_le.fit_transform(train_df['City'])\n"
      ],
      "metadata": {
        "id": "YI_0avPS7_n_"
      },
      "execution_count": null,
      "outputs": []
    },
    {
      "cell_type": "code",
      "source": [
        "pickle.dump(weather_le,open( r'/content/drive/MyDrive/datasets/weather_le.pkl', \"wb\" ))\n",
        "pickle.dump(Road_traffic_density_le,open( r'/content/drive/MyDrive/datasets/Road_traffic_density_le.pkl', \"wb\" ))\n",
        "pickle.dump(Type_of_vehicle_le,open( r'/content/drive/MyDrive/datasets/Type_of_vehicle_le.pkl', \"wb\" ))\n",
        "pickle.dump(Festival_le,open( r'/content/drive/MyDrive/datasets/Festival_le.pkl', \"wb\" ))\n",
        "pickle.dump(City_le,open( r'/content/drive/MyDrive/datasets/City_le.pkl', \"wb\" ))\n",
        "pickle.dump(train_SS,open( r'/content/drive/MyDrive/datasets/train_SS.pkl', \"wb\" ))"
      ],
      "metadata": {
        "id": "pYuqgmMzVYSl"
      },
      "execution_count": null,
      "outputs": []
    },
    {
      "cell_type": "code",
      "source": [],
      "metadata": {
        "id": "yLppBLQCVCPC"
      },
      "execution_count": null,
      "outputs": []
    },
    {
      "cell_type": "code",
      "source": [],
      "metadata": {
        "id": "xiuWWytnBIuu"
      },
      "execution_count": null,
      "outputs": []
    },
    {
      "cell_type": "code",
      "source": [
        "Time_taken = train_df['Time_taken']\n",
        "train_df.drop(['Time_taken'],axis=1,inplace=True)\n",
        "train_SS = StandardScaler()\n",
        "train_df = train_SS.fit_transform(train_df)"
      ],
      "metadata": {
        "id": "CborHgxK-Y_i"
      },
      "execution_count": null,
      "outputs": []
    },
    {
      "cell_type": "code",
      "source": [
        "X_train, X_test, y_train, y_test = train_test_split(train_df, y, test_size=0.33, random_state=5)"
      ],
      "metadata": {
        "id": "9PCUt5ITBc69"
      },
      "execution_count": null,
      "outputs": []
    },
    {
      "cell_type": "code",
      "source": [
        "lr = LinearRegression()\n",
        "lr.fit(train_df,y)\n",
        "lr_pred = lr.predict(train_df)\n",
        "print('r2 score',r2_score(y, lr_pred))\n",
        "print('mean_squared_error',mean_squared_error(y, lr_pred))"
      ],
      "metadata": {
        "id": "ViJCEoB5A_o_",
        "colab": {
          "base_uri": "https://localhost:8080/"
        },
        "outputId": "d39b0926-8e90-48e6-f547-394656ca9d7c"
      },
      "execution_count": null,
      "outputs": [
        {
          "output_type": "stream",
          "name": "stdout",
          "text": [
            "r2 score 0.5511504627494289\n",
            "mean_squared_error 39.52294617492492\n"
          ]
        }
      ]
    },
    {
      "cell_type": "code",
      "source": [],
      "metadata": {
        "colab": {
          "base_uri": "https://localhost:8080/"
        },
        "id": "PtAAmfSqCE_b",
        "outputId": "5eff3b77-7af1-4a91-f904-678b897182b1"
      },
      "execution_count": null,
      "outputs": [
        {
          "output_type": "stream",
          "name": "stdout",
          "text": [
            "r2 score 0.61737363413033\n",
            "mean_squared_error 33.659013505392906\n"
          ]
        }
      ]
    },
    {
      "cell_type": "code",
      "source": [
        "lasso = Lasso()\n",
        "lasso.fit(train_df,y)\n",
        "lasso_pred = lasso.predict(train_df)\n",
        "print('r2 score',r2_score(y, lasso_pred))\n",
        "print('mean_squared_error',mean_squared_error(y, lasso_pred))"
      ],
      "metadata": {
        "colab": {
          "base_uri": "https://localhost:8080/"
        },
        "id": "fHev87BBCeuS",
        "outputId": "680da14e-8c61-4f3b-af2e-bc1c1418c5fc"
      },
      "execution_count": null,
      "outputs": [
        {
          "output_type": "stream",
          "name": "stdout",
          "text": [
            "r2 score 0.5205411390945323\n",
            "mean_squared_error 42.21821608357579\n"
          ]
        }
      ]
    },
    {
      "cell_type": "code",
      "source": [
        "ridge = Ridge()\n",
        "ridge.fit(X_train,y_train)\n",
        "ridge_pred = lasso.predict(X_test)\n",
        "print('r2 score',r2_score(y_test, ridge_pred))\n",
        "print('mean_squared_error',mean_squared_error(y_test, ridge_pred))"
      ],
      "metadata": {
        "colab": {
          "base_uri": "https://localhost:8080/"
        },
        "id": "Yq51h9eHCe6i",
        "outputId": "6ca33b00-de30-49d2-e297-afbb83ca26e3"
      },
      "execution_count": null,
      "outputs": [
        {
          "output_type": "stream",
          "name": "stdout",
          "text": [
            "r2 score 0.5237450992481476\n",
            "mean_squared_error 42.018000075195275\n"
          ]
        }
      ]
    },
    {
      "cell_type": "code",
      "source": [
        "poly_df = PolynomialFeatures(degree = 3)\n",
        "train_poly = poly_df.fit_transform(train_df)\n",
        "#test_poly = poly_df.transform(X_test)\n",
        "\n",
        "linreg2 = LinearRegression()\n",
        "linreg2.fit(train_poly,y)\n",
        "\n",
        "polynomial_predict = linreg2.predict(train_poly)\n",
        "\n",
        "print('r2 score',r2_score(y, polynomial_predict))\n",
        "print('mean_squared_error',mean_squared_error(y, polynomial_predict))"
      ],
      "metadata": {
        "colab": {
          "base_uri": "https://localhost:8080/"
        },
        "id": "SQ9GgTJ4E07h",
        "outputId": "d5c9f8a9-4136-47f3-8d3a-03bdc54f1772"
      },
      "execution_count": null,
      "outputs": [
        {
          "output_type": "stream",
          "name": "stdout",
          "text": [
            "r2 score 0.7095885889861744\n",
            "mean_squared_error 25.571853401902608\n"
          ]
        }
      ]
    },
    {
      "cell_type": "code",
      "source": [],
      "metadata": {
        "id": "AS-O74H0-ZBW"
      },
      "execution_count": null,
      "outputs": []
    },
    {
      "cell_type": "code",
      "source": [
        "for i in range(2,20):\n",
        "  print('n =',i)\n",
        "  knnr = KNeighborsRegressor(n_neighbors= i)\n",
        "  knnr.fit(train_df,y)\n",
        "  knnr_pred = knnr.predict(train_df)\n",
        "  print('r2 score',r2_score(y, knnr_pred))\n",
        "  print('mean_squared_error',mean_squared_error(y, knnr_pred))"
      ],
      "metadata": {
        "colab": {
          "base_uri": "https://localhost:8080/",
          "height": 502
        },
        "id": "Ix7f4-48AQu4",
        "outputId": "572a3d19-8dbb-467f-8910-5a2e1f5a82bd"
      },
      "execution_count": null,
      "outputs": [
        {
          "output_type": "stream",
          "name": "stdout",
          "text": [
            "n = 2\n",
            "r2 score 0.9132943609289018\n",
            "mean_squared_error 7.634768495163732\n",
            "n = 3\n",
            "r2 score 0.8809557825030755\n",
            "mean_squared_error 10.482306007013747\n",
            "n = 4\n"
          ]
        },
        {
          "output_type": "error",
          "ename": "KeyboardInterrupt",
          "evalue": "ignored",
          "traceback": [
            "\u001b[0;31m---------------------------------------------------------------------------\u001b[0m",
            "\u001b[0;31mKeyboardInterrupt\u001b[0m                         Traceback (most recent call last)",
            "\u001b[0;32m<ipython-input-11-344a6411d467>\u001b[0m in \u001b[0;36m<module>\u001b[0;34m\u001b[0m\n\u001b[1;32m      3\u001b[0m   \u001b[0mknnr\u001b[0m \u001b[0;34m=\u001b[0m \u001b[0mKNeighborsRegressor\u001b[0m\u001b[0;34m(\u001b[0m\u001b[0mn_neighbors\u001b[0m\u001b[0;34m=\u001b[0m \u001b[0mi\u001b[0m\u001b[0;34m)\u001b[0m\u001b[0;34m\u001b[0m\u001b[0;34m\u001b[0m\u001b[0m\n\u001b[1;32m      4\u001b[0m   \u001b[0mknnr\u001b[0m\u001b[0;34m.\u001b[0m\u001b[0mfit\u001b[0m\u001b[0;34m(\u001b[0m\u001b[0mtrain_df\u001b[0m\u001b[0;34m,\u001b[0m\u001b[0my\u001b[0m\u001b[0;34m)\u001b[0m\u001b[0;34m\u001b[0m\u001b[0;34m\u001b[0m\u001b[0m\n\u001b[0;32m----> 5\u001b[0;31m   \u001b[0mknnr_pred\u001b[0m \u001b[0;34m=\u001b[0m \u001b[0mknnr\u001b[0m\u001b[0;34m.\u001b[0m\u001b[0mpredict\u001b[0m\u001b[0;34m(\u001b[0m\u001b[0mtrain_df\u001b[0m\u001b[0;34m)\u001b[0m\u001b[0;34m\u001b[0m\u001b[0;34m\u001b[0m\u001b[0m\n\u001b[0m\u001b[1;32m      6\u001b[0m   \u001b[0mprint\u001b[0m\u001b[0;34m(\u001b[0m\u001b[0;34m'r2 score'\u001b[0m\u001b[0;34m,\u001b[0m\u001b[0mr2_score\u001b[0m\u001b[0;34m(\u001b[0m\u001b[0my\u001b[0m\u001b[0;34m,\u001b[0m \u001b[0mknnr_pred\u001b[0m\u001b[0;34m)\u001b[0m\u001b[0;34m)\u001b[0m\u001b[0;34m\u001b[0m\u001b[0;34m\u001b[0m\u001b[0m\n\u001b[1;32m      7\u001b[0m   \u001b[0mprint\u001b[0m\u001b[0;34m(\u001b[0m\u001b[0;34m'mean_squared_error'\u001b[0m\u001b[0;34m,\u001b[0m\u001b[0mmean_squared_error\u001b[0m\u001b[0;34m(\u001b[0m\u001b[0my\u001b[0m\u001b[0;34m,\u001b[0m \u001b[0mknnr_pred\u001b[0m\u001b[0;34m)\u001b[0m\u001b[0;34m)\u001b[0m\u001b[0;34m\u001b[0m\u001b[0;34m\u001b[0m\u001b[0m\n",
            "\u001b[0;32m/usr/local/lib/python3.7/dist-packages/sklearn/neighbors/_regression.py\u001b[0m in \u001b[0;36mpredict\u001b[0;34m(self, X)\u001b[0m\n\u001b[1;32m    227\u001b[0m             \u001b[0mTarget\u001b[0m \u001b[0mvalues\u001b[0m\u001b[0;34m.\u001b[0m\u001b[0;34m\u001b[0m\u001b[0;34m\u001b[0m\u001b[0m\n\u001b[1;32m    228\u001b[0m         \"\"\"\n\u001b[0;32m--> 229\u001b[0;31m         \u001b[0mneigh_dist\u001b[0m\u001b[0;34m,\u001b[0m \u001b[0mneigh_ind\u001b[0m \u001b[0;34m=\u001b[0m \u001b[0mself\u001b[0m\u001b[0;34m.\u001b[0m\u001b[0mkneighbors\u001b[0m\u001b[0;34m(\u001b[0m\u001b[0mX\u001b[0m\u001b[0;34m)\u001b[0m\u001b[0;34m\u001b[0m\u001b[0;34m\u001b[0m\u001b[0m\n\u001b[0m\u001b[1;32m    230\u001b[0m \u001b[0;34m\u001b[0m\u001b[0m\n\u001b[1;32m    231\u001b[0m         \u001b[0mweights\u001b[0m \u001b[0;34m=\u001b[0m \u001b[0m_get_weights\u001b[0m\u001b[0;34m(\u001b[0m\u001b[0mneigh_dist\u001b[0m\u001b[0;34m,\u001b[0m \u001b[0mself\u001b[0m\u001b[0;34m.\u001b[0m\u001b[0mweights\u001b[0m\u001b[0;34m)\u001b[0m\u001b[0;34m\u001b[0m\u001b[0;34m\u001b[0m\u001b[0m\n",
            "\u001b[0;32m/usr/local/lib/python3.7/dist-packages/sklearn/neighbors/_base.py\u001b[0m in \u001b[0;36mkneighbors\u001b[0;34m(self, X, n_neighbors, return_distance)\u001b[0m\n\u001b[1;32m    757\u001b[0m                     \u001b[0mmetric\u001b[0m\u001b[0;34m=\u001b[0m\u001b[0mself\u001b[0m\u001b[0;34m.\u001b[0m\u001b[0meffective_metric_\u001b[0m\u001b[0;34m,\u001b[0m\u001b[0;34m\u001b[0m\u001b[0;34m\u001b[0m\u001b[0m\n\u001b[1;32m    758\u001b[0m                     \u001b[0mn_jobs\u001b[0m\u001b[0;34m=\u001b[0m\u001b[0mn_jobs\u001b[0m\u001b[0;34m,\u001b[0m\u001b[0;34m\u001b[0m\u001b[0;34m\u001b[0m\u001b[0m\n\u001b[0;32m--> 759\u001b[0;31m                     \u001b[0;34m**\u001b[0m\u001b[0mkwds\u001b[0m\u001b[0;34m,\u001b[0m\u001b[0;34m\u001b[0m\u001b[0;34m\u001b[0m\u001b[0m\n\u001b[0m\u001b[1;32m    760\u001b[0m                 )\n\u001b[1;32m    761\u001b[0m             )\n",
            "\u001b[0;32m/usr/local/lib/python3.7/dist-packages/sklearn/metrics/pairwise.py\u001b[0m in \u001b[0;36mpairwise_distances_chunked\u001b[0;34m(X, Y, reduce_func, metric, n_jobs, working_memory, **kwds)\u001b[0m\n\u001b[1;32m   1715\u001b[0m         \u001b[0;32melse\u001b[0m\u001b[0;34m:\u001b[0m\u001b[0;34m\u001b[0m\u001b[0;34m\u001b[0m\u001b[0m\n\u001b[1;32m   1716\u001b[0m             \u001b[0mX_chunk\u001b[0m \u001b[0;34m=\u001b[0m \u001b[0mX\u001b[0m\u001b[0;34m[\u001b[0m\u001b[0msl\u001b[0m\u001b[0;34m]\u001b[0m\u001b[0;34m\u001b[0m\u001b[0;34m\u001b[0m\u001b[0m\n\u001b[0;32m-> 1717\u001b[0;31m         \u001b[0mD_chunk\u001b[0m \u001b[0;34m=\u001b[0m \u001b[0mpairwise_distances\u001b[0m\u001b[0;34m(\u001b[0m\u001b[0mX_chunk\u001b[0m\u001b[0;34m,\u001b[0m \u001b[0mY\u001b[0m\u001b[0;34m,\u001b[0m \u001b[0mmetric\u001b[0m\u001b[0;34m=\u001b[0m\u001b[0mmetric\u001b[0m\u001b[0;34m,\u001b[0m \u001b[0mn_jobs\u001b[0m\u001b[0;34m=\u001b[0m\u001b[0mn_jobs\u001b[0m\u001b[0;34m,\u001b[0m \u001b[0;34m**\u001b[0m\u001b[0mkwds\u001b[0m\u001b[0;34m)\u001b[0m\u001b[0;34m\u001b[0m\u001b[0;34m\u001b[0m\u001b[0m\n\u001b[0m\u001b[1;32m   1718\u001b[0m         if (X is Y or Y is None) and PAIRWISE_DISTANCE_FUNCTIONS.get(\n\u001b[1;32m   1719\u001b[0m             \u001b[0mmetric\u001b[0m\u001b[0;34m,\u001b[0m \u001b[0;32mNone\u001b[0m\u001b[0;34m\u001b[0m\u001b[0;34m\u001b[0m\u001b[0m\n",
            "\u001b[0;32m/usr/local/lib/python3.7/dist-packages/sklearn/metrics/pairwise.py\u001b[0m in \u001b[0;36mpairwise_distances\u001b[0;34m(X, Y, metric, n_jobs, force_all_finite, **kwds)\u001b[0m\n\u001b[1;32m   1887\u001b[0m         \u001b[0mfunc\u001b[0m \u001b[0;34m=\u001b[0m \u001b[0mpartial\u001b[0m\u001b[0;34m(\u001b[0m\u001b[0mdistance\u001b[0m\u001b[0;34m.\u001b[0m\u001b[0mcdist\u001b[0m\u001b[0;34m,\u001b[0m \u001b[0mmetric\u001b[0m\u001b[0;34m=\u001b[0m\u001b[0mmetric\u001b[0m\u001b[0;34m,\u001b[0m \u001b[0;34m**\u001b[0m\u001b[0mkwds\u001b[0m\u001b[0;34m)\u001b[0m\u001b[0;34m\u001b[0m\u001b[0;34m\u001b[0m\u001b[0m\n\u001b[1;32m   1888\u001b[0m \u001b[0;34m\u001b[0m\u001b[0m\n\u001b[0;32m-> 1889\u001b[0;31m     \u001b[0;32mreturn\u001b[0m \u001b[0m_parallel_pairwise\u001b[0m\u001b[0;34m(\u001b[0m\u001b[0mX\u001b[0m\u001b[0;34m,\u001b[0m \u001b[0mY\u001b[0m\u001b[0;34m,\u001b[0m \u001b[0mfunc\u001b[0m\u001b[0;34m,\u001b[0m \u001b[0mn_jobs\u001b[0m\u001b[0;34m,\u001b[0m \u001b[0;34m**\u001b[0m\u001b[0mkwds\u001b[0m\u001b[0;34m)\u001b[0m\u001b[0;34m\u001b[0m\u001b[0;34m\u001b[0m\u001b[0m\n\u001b[0m\u001b[1;32m   1890\u001b[0m \u001b[0;34m\u001b[0m\u001b[0m\n\u001b[1;32m   1891\u001b[0m \u001b[0;34m\u001b[0m\u001b[0m\n",
            "\u001b[0;32m/usr/local/lib/python3.7/dist-packages/sklearn/metrics/pairwise.py\u001b[0m in \u001b[0;36m_parallel_pairwise\u001b[0;34m(X, Y, func, n_jobs, **kwds)\u001b[0m\n\u001b[1;32m   1428\u001b[0m \u001b[0;34m\u001b[0m\u001b[0m\n\u001b[1;32m   1429\u001b[0m     \u001b[0;32mif\u001b[0m \u001b[0meffective_n_jobs\u001b[0m\u001b[0;34m(\u001b[0m\u001b[0mn_jobs\u001b[0m\u001b[0;34m)\u001b[0m \u001b[0;34m==\u001b[0m \u001b[0;36m1\u001b[0m\u001b[0;34m:\u001b[0m\u001b[0;34m\u001b[0m\u001b[0;34m\u001b[0m\u001b[0m\n\u001b[0;32m-> 1430\u001b[0;31m         \u001b[0;32mreturn\u001b[0m \u001b[0mfunc\u001b[0m\u001b[0;34m(\u001b[0m\u001b[0mX\u001b[0m\u001b[0;34m,\u001b[0m \u001b[0mY\u001b[0m\u001b[0;34m,\u001b[0m \u001b[0;34m**\u001b[0m\u001b[0mkwds\u001b[0m\u001b[0;34m)\u001b[0m\u001b[0;34m\u001b[0m\u001b[0;34m\u001b[0m\u001b[0m\n\u001b[0m\u001b[1;32m   1431\u001b[0m \u001b[0;34m\u001b[0m\u001b[0m\n\u001b[1;32m   1432\u001b[0m     \u001b[0;31m# enforce a threading backend to prevent data communication overhead\u001b[0m\u001b[0;34m\u001b[0m\u001b[0;34m\u001b[0m\u001b[0;34m\u001b[0m\u001b[0m\n",
            "\u001b[0;32m/usr/local/lib/python3.7/dist-packages/sklearn/metrics/pairwise.py\u001b[0m in \u001b[0;36meuclidean_distances\u001b[0;34m(X, Y, Y_norm_squared, squared, X_norm_squared)\u001b[0m\n\u001b[1;32m    328\u001b[0m             )\n\u001b[1;32m    329\u001b[0m \u001b[0;34m\u001b[0m\u001b[0m\n\u001b[0;32m--> 330\u001b[0;31m     \u001b[0;32mreturn\u001b[0m \u001b[0m_euclidean_distances\u001b[0m\u001b[0;34m(\u001b[0m\u001b[0mX\u001b[0m\u001b[0;34m,\u001b[0m \u001b[0mY\u001b[0m\u001b[0;34m,\u001b[0m \u001b[0mX_norm_squared\u001b[0m\u001b[0;34m,\u001b[0m \u001b[0mY_norm_squared\u001b[0m\u001b[0;34m,\u001b[0m \u001b[0msquared\u001b[0m\u001b[0;34m)\u001b[0m\u001b[0;34m\u001b[0m\u001b[0;34m\u001b[0m\u001b[0m\n\u001b[0m\u001b[1;32m    331\u001b[0m \u001b[0;34m\u001b[0m\u001b[0m\n\u001b[1;32m    332\u001b[0m \u001b[0;34m\u001b[0m\u001b[0m\n",
            "\u001b[0;32m/usr/local/lib/python3.7/dist-packages/sklearn/metrics/pairwise.py\u001b[0m in \u001b[0;36m_euclidean_distances\u001b[0;34m(X, Y, X_norm_squared, Y_norm_squared, squared)\u001b[0m\n\u001b[1;32m    369\u001b[0m     \u001b[0;32melse\u001b[0m\u001b[0;34m:\u001b[0m\u001b[0;34m\u001b[0m\u001b[0;34m\u001b[0m\u001b[0m\n\u001b[1;32m    370\u001b[0m         \u001b[0;31m# if dtype is already float64, no need to chunk and upcast\u001b[0m\u001b[0;34m\u001b[0m\u001b[0;34m\u001b[0m\u001b[0;34m\u001b[0m\u001b[0m\n\u001b[0;32m--> 371\u001b[0;31m         \u001b[0mdistances\u001b[0m \u001b[0;34m=\u001b[0m \u001b[0;34m-\u001b[0m\u001b[0;36m2\u001b[0m \u001b[0;34m*\u001b[0m \u001b[0msafe_sparse_dot\u001b[0m\u001b[0;34m(\u001b[0m\u001b[0mX\u001b[0m\u001b[0;34m,\u001b[0m \u001b[0mY\u001b[0m\u001b[0;34m.\u001b[0m\u001b[0mT\u001b[0m\u001b[0;34m,\u001b[0m \u001b[0mdense_output\u001b[0m\u001b[0;34m=\u001b[0m\u001b[0;32mTrue\u001b[0m\u001b[0;34m)\u001b[0m\u001b[0;34m\u001b[0m\u001b[0;34m\u001b[0m\u001b[0m\n\u001b[0m\u001b[1;32m    372\u001b[0m         \u001b[0mdistances\u001b[0m \u001b[0;34m+=\u001b[0m \u001b[0mXX\u001b[0m\u001b[0;34m\u001b[0m\u001b[0;34m\u001b[0m\u001b[0m\n\u001b[1;32m    373\u001b[0m         \u001b[0mdistances\u001b[0m \u001b[0;34m+=\u001b[0m \u001b[0mYY\u001b[0m\u001b[0;34m\u001b[0m\u001b[0;34m\u001b[0m\u001b[0m\n",
            "\u001b[0;32m/usr/local/lib/python3.7/dist-packages/sklearn/utils/extmath.py\u001b[0m in \u001b[0;36msafe_sparse_dot\u001b[0;34m(a, b, dense_output)\u001b[0m\n\u001b[1;32m    151\u001b[0m             \u001b[0mret\u001b[0m \u001b[0;34m=\u001b[0m \u001b[0mnp\u001b[0m\u001b[0;34m.\u001b[0m\u001b[0mdot\u001b[0m\u001b[0;34m(\u001b[0m\u001b[0ma\u001b[0m\u001b[0;34m,\u001b[0m \u001b[0mb\u001b[0m\u001b[0;34m)\u001b[0m\u001b[0;34m\u001b[0m\u001b[0;34m\u001b[0m\u001b[0m\n\u001b[1;32m    152\u001b[0m     \u001b[0;32melse\u001b[0m\u001b[0;34m:\u001b[0m\u001b[0;34m\u001b[0m\u001b[0;34m\u001b[0m\u001b[0m\n\u001b[0;32m--> 153\u001b[0;31m         \u001b[0mret\u001b[0m \u001b[0;34m=\u001b[0m \u001b[0ma\u001b[0m \u001b[0;34m@\u001b[0m \u001b[0mb\u001b[0m\u001b[0;34m\u001b[0m\u001b[0;34m\u001b[0m\u001b[0m\n\u001b[0m\u001b[1;32m    154\u001b[0m \u001b[0;34m\u001b[0m\u001b[0m\n\u001b[1;32m    155\u001b[0m     if (\n",
            "\u001b[0;31mKeyboardInterrupt\u001b[0m: "
          ]
        }
      ]
    },
    {
      "cell_type": "code",
      "source": [
        "print('n =',2)\n",
        "knnr = KNeighborsRegressor(n_neighbors= 2)\n",
        "knnr.fit(train_df,y)\n",
        "knnr_pred = knnr.predict(train_df)\n",
        "print('r2 score',r2_score(y, knnr_pred))\n",
        "print('mean_squared_error',mean_squared_error(y, knnr_pred))"
      ],
      "metadata": {
        "colab": {
          "base_uri": "https://localhost:8080/"
        },
        "id": "PGYQROfP-ZDj",
        "outputId": "3c0daf8b-a930-4f15-9382-3de4e0eee824"
      },
      "execution_count": null,
      "outputs": [
        {
          "output_type": "stream",
          "name": "stdout",
          "text": [
            "n = 2\n",
            "r2 score 0.9132943609289018\n",
            "mean_squared_error 7.634768495163732\n"
          ]
        }
      ]
    },
    {
      "cell_type": "code",
      "source": [
        "knnr_pred = knnr.predict(X_train)\n",
        "print('r2 score',r2_score(y_train, knnr_pred))\n",
        "print('mean_squared_error',mean_squared_error(y_train, knnr_pred))"
      ],
      "metadata": {
        "colab": {
          "base_uri": "https://localhost:8080/"
        },
        "id": "9UytRlkN-ZGD",
        "outputId": "4744006a-13ca-4853-d6a7-f26e7c0245a8"
      },
      "execution_count": null,
      "outputs": [
        {
          "output_type": "stream",
          "name": "stdout",
          "text": [
            "r2 score 0.8245871395990864\n",
            "mean_squared_error 15.430781472244512\n"
          ]
        }
      ]
    },
    {
      "cell_type": "code",
      "source": [
        "svr = SVR()\n",
        "svr.fit(train_df,y)\n",
        "svr_pred = svr.predict(train_df)\n",
        "print('r2 score',r2_score(y, svr_pred))\n",
        "print('mean_squared_error',mean_squared_error(y, svr_pred))"
      ],
      "metadata": {
        "colab": {
          "base_uri": "https://localhost:8080/"
        },
        "id": "dhJUbrTEX5py",
        "outputId": "e92aa6f4-1d30-4639-fa37-d6804498f79f"
      },
      "execution_count": null,
      "outputs": [
        {
          "output_type": "stream",
          "name": "stdout",
          "text": [
            "r2 score 0.6980003090776898\n",
            "mean_squared_error 26.592246484824106\n"
          ]
        }
      ]
    },
    {
      "cell_type": "code",
      "source": [
        "svr_pred = svr.predict(X_train)\n",
        "print('r2 score',r2_score(y_train, svr_pred))\n",
        "print('mean_squared_error',mean_squared_error(y_train, svr_pred))"
      ],
      "metadata": {
        "colab": {
          "base_uri": "https://localhost:8080/"
        },
        "id": "xytYMSnZDv5s",
        "outputId": "d44952de-2a05-40f3-9758-d1ca83951a8e"
      },
      "execution_count": null,
      "outputs": [
        {
          "output_type": "stream",
          "name": "stdout",
          "text": [
            "r2 score 0.7744288018459344\n",
            "mean_squared_error 19.843128133207387\n"
          ]
        }
      ]
    },
    {
      "cell_type": "code",
      "source": [
        "pickle.dump(knnr,open( r'/content/drive/MyDrive/datasets/trained_model.pkl', \"wb\" ))"
      ],
      "metadata": {
        "id": "rq2wwd0Q-ZHl"
      },
      "execution_count": null,
      "outputs": []
    },
    {
      "cell_type": "code",
      "source": [
        "df = train_df.copy()\n",
        "df_preprocess(df)\n",
        "y = df['Time_taken']\n",
        "df.drop(['Time_taken'],inplace = True, axis=1)\n",
        "out = df_transform(df)\n",
        "\n",
        "X_train, X_test, y_train, y_test = train_test_split(out, y, test_size=0.33, random_state=5)"
      ],
      "metadata": {
        "colab": {
          "base_uri": "https://localhost:8080/"
        },
        "id": "_lnSOgX2xtiF",
        "outputId": "b2ae6e04-8c22-47fa-f0b4-9ee4755a814e"
      },
      "execution_count": null,
      "outputs": [
        {
          "output_type": "stream",
          "name": "stdout",
          "text": [
            "LabelEncoder()\n"
          ]
        }
      ]
    },
    {
      "cell_type": "code",
      "source": [
        "def predictwithmodel(X_data,Y_data,model,**kwags):\n",
        "  if model == KNeighborsRegressor():\n",
        "    k = kwags['k']\n",
        "    print(k)\n",
        "  else:\n",
        "    print(kwags)"
      ],
      "metadata": {
        "id": "HC4_RPo85ETV"
      },
      "execution_count": null,
      "outputs": []
    },
    {
      "cell_type": "code",
      "source": [
        "predictwithmodel(1,2,KNeighborsRegressor(),k=1)"
      ],
      "metadata": {
        "colab": {
          "base_uri": "https://localhost:8080/"
        },
        "id": "7C-dovIx5kF0",
        "outputId": "8f0ee051-d851-41b4-ff16-35905cc4665a"
      },
      "execution_count": null,
      "outputs": [
        {
          "output_type": "stream",
          "name": "stdout",
          "text": [
            "{'k': 1}\n"
          ]
        }
      ]
    },
    {
      "cell_type": "code",
      "source": [
        "from keras.models import Sequential\n",
        "from keras.layers import Dense,Dropout\n",
        "from tensorflow import keras"
      ],
      "metadata": {
        "id": "yiTsGuSkMiYy"
      },
      "execution_count": null,
      "outputs": []
    },
    {
      "cell_type": "code",
      "source": [
        "# temp = None\n",
        "# for i in range(5):\n",
        "# create ANN model\n",
        "model = Sequential()\n",
        "\n",
        "model.add(Dense(units=32, input_dim=len(train_df[0]), kernel_initializer='normal', activation='tanh'))\n",
        "\n",
        "model.add(Dense(units=16, kernel_initializer='normal', activation='tanh'))\n",
        "\n",
        "#model.add(Dense(units=8, kernel_initializer='normal', activation='tanh'))\n",
        "\n",
        "#model.add(Dense(units=4, kernel_initializer='normal', activation='tanh'))\n",
        "\n",
        "model.add(Dense(1, kernel_initializer='normal'))\n",
        "\n",
        "model.compile(loss='mean_squared_error', optimizer='sgd')\n",
        "# if temp:\n",
        "#   model.set_weights(temp.get_weights()) \n",
        "\n",
        "model.fit(train_df, y ,batch_size = 15, epochs = 300, verbose=1)\n",
        "temp = model"
      ],
      "metadata": {
        "colab": {
          "base_uri": "https://localhost:8080/"
        },
        "id": "1T2k-_9nxOlQ",
        "outputId": "e46a82a3-a14a-4e20-84a0-3573a7805eb1"
      },
      "execution_count": null,
      "outputs": [
        {
          "output_type": "stream",
          "name": "stdout",
          "text": [
            "Epoch 1/300\n",
            "3040/3040 [==============================] - 7s 2ms/step - loss: 27.1370\n",
            "Epoch 2/300\n",
            "3040/3040 [==============================] - 7s 2ms/step - loss: 17.5690\n",
            "Epoch 3/300\n",
            "3040/3040 [==============================] - 7s 2ms/step - loss: 15.7285\n",
            "Epoch 4/300\n",
            "3040/3040 [==============================] - 7s 2ms/step - loss: 14.7932\n",
            "Epoch 5/300\n",
            "3040/3040 [==============================] - 7s 2ms/step - loss: 14.3192\n",
            "Epoch 6/300\n",
            "3040/3040 [==============================] - 7s 2ms/step - loss: 13.9784\n",
            "Epoch 7/300\n",
            "3040/3040 [==============================] - 7s 2ms/step - loss: 13.7368\n",
            "Epoch 8/300\n",
            "3040/3040 [==============================] - 7s 2ms/step - loss: 13.5226\n",
            "Epoch 9/300\n",
            "3040/3040 [==============================] - 7s 2ms/step - loss: 13.5497\n",
            "Epoch 10/300\n",
            "3040/3040 [==============================] - 7s 2ms/step - loss: 13.2760\n",
            "Epoch 11/300\n",
            "3040/3040 [==============================] - 7s 2ms/step - loss: 13.3251\n",
            "Epoch 12/300\n",
            "3040/3040 [==============================] - 7s 2ms/step - loss: 13.1837\n",
            "Epoch 13/300\n",
            "3040/3040 [==============================] - 7s 2ms/step - loss: 13.1022\n",
            "Epoch 14/300\n",
            "3040/3040 [==============================] - 7s 2ms/step - loss: 13.0092\n",
            "Epoch 15/300\n",
            "3040/3040 [==============================] - 7s 2ms/step - loss: 12.9048\n",
            "Epoch 16/300\n",
            "3040/3040 [==============================] - 7s 2ms/step - loss: 12.8496\n",
            "Epoch 17/300\n",
            "3040/3040 [==============================] - 7s 2ms/step - loss: 12.8027\n",
            "Epoch 18/300\n",
            "3040/3040 [==============================] - 7s 2ms/step - loss: 12.8034\n",
            "Epoch 19/300\n",
            "3040/3040 [==============================] - 7s 2ms/step - loss: 12.7343\n",
            "Epoch 20/300\n",
            "3040/3040 [==============================] - 8s 3ms/step - loss: 12.6257\n",
            "Epoch 21/300\n",
            "3040/3040 [==============================] - 7s 2ms/step - loss: 12.5489\n",
            "Epoch 22/300\n",
            "3040/3040 [==============================] - 7s 2ms/step - loss: 12.5749\n",
            "Epoch 23/300\n",
            "3040/3040 [==============================] - 7s 2ms/step - loss: 12.4831\n",
            "Epoch 24/300\n",
            "3040/3040 [==============================] - 7s 2ms/step - loss: 12.4701\n",
            "Epoch 25/300\n",
            "3040/3040 [==============================] - 7s 2ms/step - loss: 12.3888\n",
            "Epoch 26/300\n",
            "3040/3040 [==============================] - 7s 2ms/step - loss: 12.3788\n",
            "Epoch 27/300\n",
            "3040/3040 [==============================] - 7s 2ms/step - loss: 12.4326\n",
            "Epoch 28/300\n",
            "3040/3040 [==============================] - 7s 2ms/step - loss: 12.3982\n",
            "Epoch 29/300\n",
            "3040/3040 [==============================] - 7s 2ms/step - loss: 12.2686\n",
            "Epoch 30/300\n",
            "3040/3040 [==============================] - 7s 2ms/step - loss: 12.2885\n",
            "Epoch 31/300\n",
            "3040/3040 [==============================] - 7s 2ms/step - loss: 12.2821\n",
            "Epoch 32/300\n",
            "3040/3040 [==============================] - 7s 2ms/step - loss: 12.2770\n",
            "Epoch 33/300\n",
            "3040/3040 [==============================] - 7s 2ms/step - loss: 12.2511\n",
            "Epoch 34/300\n",
            "3040/3040 [==============================] - 7s 2ms/step - loss: 12.2193\n",
            "Epoch 35/300\n",
            "3040/3040 [==============================] - 7s 2ms/step - loss: 12.2290\n",
            "Epoch 36/300\n",
            "3040/3040 [==============================] - 7s 2ms/step - loss: 12.2307\n",
            "Epoch 37/300\n",
            "3040/3040 [==============================] - 7s 2ms/step - loss: 12.1756\n",
            "Epoch 38/300\n",
            "3040/3040 [==============================] - 7s 2ms/step - loss: 12.1285\n",
            "Epoch 39/300\n",
            "3040/3040 [==============================] - 7s 2ms/step - loss: 12.1467\n",
            "Epoch 40/300\n",
            "3040/3040 [==============================] - 7s 2ms/step - loss: 12.0663\n",
            "Epoch 41/300\n",
            "3040/3040 [==============================] - 7s 2ms/step - loss: 12.1314\n",
            "Epoch 42/300\n",
            "3040/3040 [==============================] - 7s 2ms/step - loss: 12.0813\n",
            "Epoch 43/300\n",
            "3040/3040 [==============================] - 8s 3ms/step - loss: 12.1653\n",
            "Epoch 44/300\n",
            "3040/3040 [==============================] - 7s 2ms/step - loss: 12.0876\n",
            "Epoch 45/300\n",
            "3040/3040 [==============================] - 7s 2ms/step - loss: 12.1329\n",
            "Epoch 46/300\n",
            "3040/3040 [==============================] - 7s 2ms/step - loss: 12.0948\n",
            "Epoch 47/300\n",
            "3040/3040 [==============================] - 7s 2ms/step - loss: 12.0632\n",
            "Epoch 48/300\n",
            "3040/3040 [==============================] - 7s 2ms/step - loss: 12.0072\n",
            "Epoch 49/300\n",
            "3040/3040 [==============================] - 7s 2ms/step - loss: 12.0127\n",
            "Epoch 50/300\n",
            "3040/3040 [==============================] - 7s 2ms/step - loss: 12.0275\n",
            "Epoch 51/300\n",
            "3040/3040 [==============================] - 7s 2ms/step - loss: 12.0216\n",
            "Epoch 52/300\n",
            "3040/3040 [==============================] - 7s 2ms/step - loss: 11.9119\n",
            "Epoch 53/300\n",
            "3040/3040 [==============================] - 7s 2ms/step - loss: 11.9458\n",
            "Epoch 54/300\n",
            "3040/3040 [==============================] - 7s 2ms/step - loss: 11.9786\n",
            "Epoch 55/300\n",
            "3040/3040 [==============================] - 7s 2ms/step - loss: 11.9645\n",
            "Epoch 56/300\n",
            "3040/3040 [==============================] - 7s 2ms/step - loss: 12.0129\n",
            "Epoch 57/300\n",
            "3040/3040 [==============================] - 7s 2ms/step - loss: 11.9907\n",
            "Epoch 58/300\n",
            "3040/3040 [==============================] - 7s 2ms/step - loss: 12.0325\n",
            "Epoch 59/300\n",
            "3040/3040 [==============================] - 7s 2ms/step - loss: 11.9098\n",
            "Epoch 60/300\n",
            "3040/3040 [==============================] - 7s 2ms/step - loss: 11.8659\n",
            "Epoch 61/300\n",
            "3040/3040 [==============================] - 7s 2ms/step - loss: 11.8362\n",
            "Epoch 62/300\n",
            "3040/3040 [==============================] - 7s 2ms/step - loss: 11.8406\n",
            "Epoch 63/300\n",
            "3040/3040 [==============================] - 7s 2ms/step - loss: 11.8557\n",
            "Epoch 64/300\n",
            "3040/3040 [==============================] - 7s 2ms/step - loss: 11.8870\n",
            "Epoch 65/300\n",
            "3040/3040 [==============================] - 7s 2ms/step - loss: 11.8148\n",
            "Epoch 66/300\n",
            "3040/3040 [==============================] - 7s 2ms/step - loss: 11.8302\n",
            "Epoch 67/300\n",
            "3040/3040 [==============================] - 8s 3ms/step - loss: 11.7771\n",
            "Epoch 68/300\n",
            "3040/3040 [==============================] - 7s 2ms/step - loss: 11.7797\n",
            "Epoch 69/300\n",
            "3040/3040 [==============================] - 7s 2ms/step - loss: 11.8066\n",
            "Epoch 70/300\n",
            "3040/3040 [==============================] - 7s 2ms/step - loss: 11.8170\n",
            "Epoch 71/300\n",
            "3040/3040 [==============================] - 7s 2ms/step - loss: 11.7708\n",
            "Epoch 72/300\n",
            "3040/3040 [==============================] - 7s 2ms/step - loss: 11.8425\n",
            "Epoch 73/300\n",
            "3040/3040 [==============================] - 7s 2ms/step - loss: 11.7309\n",
            "Epoch 74/300\n",
            "3040/3040 [==============================] - 7s 2ms/step - loss: 11.7287\n",
            "Epoch 75/300\n",
            "3040/3040 [==============================] - 7s 2ms/step - loss: 11.7637\n",
            "Epoch 76/300\n",
            "3040/3040 [==============================] - 7s 2ms/step - loss: 11.7494\n",
            "Epoch 77/300\n",
            "3040/3040 [==============================] - 7s 2ms/step - loss: 11.6920\n",
            "Epoch 78/300\n",
            "3040/3040 [==============================] - 7s 2ms/step - loss: 11.7385\n",
            "Epoch 79/300\n",
            "3040/3040 [==============================] - 7s 2ms/step - loss: 11.7381\n",
            "Epoch 80/300\n",
            "3040/3040 [==============================] - 7s 2ms/step - loss: 11.7191\n",
            "Epoch 81/300\n",
            "3040/3040 [==============================] - 7s 2ms/step - loss: 11.7156\n",
            "Epoch 82/300\n",
            "3040/3040 [==============================] - 7s 2ms/step - loss: 11.8415\n",
            "Epoch 83/300\n",
            "3040/3040 [==============================] - 7s 2ms/step - loss: 11.7936\n",
            "Epoch 84/300\n",
            "3040/3040 [==============================] - 7s 2ms/step - loss: 11.7401\n",
            "Epoch 85/300\n",
            "3040/3040 [==============================] - 7s 2ms/step - loss: 11.6401\n",
            "Epoch 86/300\n",
            "3040/3040 [==============================] - 7s 2ms/step - loss: 11.6308\n",
            "Epoch 87/300\n",
            "3040/3040 [==============================] - 7s 2ms/step - loss: 11.6335\n",
            "Epoch 88/300\n",
            "3040/3040 [==============================] - 7s 2ms/step - loss: 11.6722\n",
            "Epoch 89/300\n",
            "3040/3040 [==============================] - 7s 2ms/step - loss: 11.6634\n",
            "Epoch 90/300\n",
            "3040/3040 [==============================] - 8s 3ms/step - loss: 11.5979\n",
            "Epoch 91/300\n",
            "3040/3040 [==============================] - 7s 2ms/step - loss: 11.6114\n",
            "Epoch 92/300\n",
            "3040/3040 [==============================] - 7s 2ms/step - loss: 11.6806\n",
            "Epoch 93/300\n",
            "3040/3040 [==============================] - 7s 2ms/step - loss: 11.7454\n",
            "Epoch 94/300\n",
            "3040/3040 [==============================] - 7s 2ms/step - loss: 11.6434\n",
            "Epoch 95/300\n",
            "3040/3040 [==============================] - 7s 2ms/step - loss: 11.6130\n",
            "Epoch 96/300\n",
            "3040/3040 [==============================] - 7s 2ms/step - loss: 11.6258\n",
            "Epoch 97/300\n",
            "3040/3040 [==============================] - 7s 2ms/step - loss: 11.5822\n",
            "Epoch 98/300\n",
            "3040/3040 [==============================] - 7s 2ms/step - loss: 11.6092\n",
            "Epoch 99/300\n",
            "3040/3040 [==============================] - 7s 2ms/step - loss: 11.6729\n",
            "Epoch 100/300\n",
            "3040/3040 [==============================] - 7s 2ms/step - loss: 11.5638\n",
            "Epoch 101/300\n",
            "3040/3040 [==============================] - 7s 2ms/step - loss: 11.7516\n",
            "Epoch 102/300\n",
            "3040/3040 [==============================] - 7s 2ms/step - loss: 11.6024\n",
            "Epoch 103/300\n",
            "3040/3040 [==============================] - 7s 2ms/step - loss: 11.5229\n",
            "Epoch 104/300\n",
            "3040/3040 [==============================] - 7s 2ms/step - loss: 11.4768\n",
            "Epoch 105/300\n",
            "3040/3040 [==============================] - 7s 2ms/step - loss: 11.5322\n",
            "Epoch 106/300\n",
            "3040/3040 [==============================] - 7s 2ms/step - loss: 11.6616\n",
            "Epoch 107/300\n",
            "3040/3040 [==============================] - 7s 2ms/step - loss: 11.6767\n",
            "Epoch 108/300\n",
            "3040/3040 [==============================] - 7s 2ms/step - loss: 11.5882\n",
            "Epoch 109/300\n",
            "3040/3040 [==============================] - 7s 2ms/step - loss: 11.5582\n",
            "Epoch 110/300\n",
            "3040/3040 [==============================] - 7s 2ms/step - loss: 11.6109\n",
            "Epoch 111/300\n",
            "3040/3040 [==============================] - 7s 2ms/step - loss: 11.5823\n",
            "Epoch 112/300\n",
            "3040/3040 [==============================] - 7s 2ms/step - loss: 11.5166\n",
            "Epoch 113/300\n",
            "3040/3040 [==============================] - 8s 3ms/step - loss: 11.5886\n",
            "Epoch 114/300\n",
            "3040/3040 [==============================] - 7s 2ms/step - loss: 11.4971\n",
            "Epoch 115/300\n",
            "3040/3040 [==============================] - 7s 2ms/step - loss: 11.4908\n",
            "Epoch 116/300\n",
            "3040/3040 [==============================] - 7s 2ms/step - loss: 11.5713\n",
            "Epoch 117/300\n",
            "3040/3040 [==============================] - 7s 2ms/step - loss: 11.4956\n",
            "Epoch 118/300\n",
            "3040/3040 [==============================] - 7s 2ms/step - loss: 11.5380\n",
            "Epoch 119/300\n",
            "3040/3040 [==============================] - 7s 2ms/step - loss: 11.4791\n",
            "Epoch 120/300\n",
            "3040/3040 [==============================] - 7s 2ms/step - loss: 11.5608\n",
            "Epoch 121/300\n",
            "3040/3040 [==============================] - 7s 2ms/step - loss: 11.3937\n",
            "Epoch 122/300\n",
            "3040/3040 [==============================] - 7s 2ms/step - loss: 11.4318\n",
            "Epoch 123/300\n",
            "3040/3040 [==============================] - 7s 2ms/step - loss: 11.4697\n",
            "Epoch 124/300\n",
            "3040/3040 [==============================] - 7s 2ms/step - loss: 11.4527\n",
            "Epoch 125/300\n",
            "3040/3040 [==============================] - 7s 2ms/step - loss: 11.4805\n",
            "Epoch 126/300\n",
            "3040/3040 [==============================] - 7s 2ms/step - loss: 11.5125\n",
            "Epoch 127/300\n",
            "3040/3040 [==============================] - 7s 2ms/step - loss: 11.4768\n",
            "Epoch 128/300\n",
            "3040/3040 [==============================] - 7s 2ms/step - loss: 11.5162\n",
            "Epoch 129/300\n",
            "3040/3040 [==============================] - 7s 2ms/step - loss: 11.4880\n",
            "Epoch 130/300\n",
            "3040/3040 [==============================] - 7s 2ms/step - loss: 11.3666\n",
            "Epoch 131/300\n",
            "3040/3040 [==============================] - 7s 2ms/step - loss: 11.4964\n",
            "Epoch 132/300\n",
            "3040/3040 [==============================] - 7s 2ms/step - loss: 11.5097\n",
            "Epoch 133/300\n",
            "3040/3040 [==============================] - 7s 2ms/step - loss: 11.4487\n",
            "Epoch 134/300\n",
            "3040/3040 [==============================] - 7s 2ms/step - loss: 11.4113\n",
            "Epoch 135/300\n",
            "3040/3040 [==============================] - 7s 2ms/step - loss: 11.4881\n",
            "Epoch 136/300\n",
            "3040/3040 [==============================] - 7s 2ms/step - loss: 11.3970\n",
            "Epoch 137/300\n",
            "3040/3040 [==============================] - 8s 2ms/step - loss: 11.3649\n",
            "Epoch 138/300\n",
            "3040/3040 [==============================] - 7s 2ms/step - loss: 11.3671\n",
            "Epoch 139/300\n",
            "3040/3040 [==============================] - 7s 2ms/step - loss: 11.3866\n",
            "Epoch 140/300\n",
            "3040/3040 [==============================] - 7s 2ms/step - loss: 11.4554\n",
            "Epoch 141/300\n",
            "3040/3040 [==============================] - 7s 2ms/step - loss: 11.4296\n",
            "Epoch 142/300\n",
            "3040/3040 [==============================] - 7s 2ms/step - loss: 11.4401\n",
            "Epoch 143/300\n",
            "3040/3040 [==============================] - 7s 2ms/step - loss: 11.5184\n",
            "Epoch 144/300\n",
            "3040/3040 [==============================] - 7s 2ms/step - loss: 11.4438\n",
            "Epoch 145/300\n",
            "3040/3040 [==============================] - 7s 2ms/step - loss: 11.3359\n",
            "Epoch 146/300\n",
            "3040/3040 [==============================] - 7s 2ms/step - loss: 11.4396\n",
            "Epoch 147/300\n",
            "3040/3040 [==============================] - 7s 2ms/step - loss: 11.3349\n",
            "Epoch 148/300\n",
            "3040/3040 [==============================] - 7s 2ms/step - loss: 11.3900\n",
            "Epoch 149/300\n",
            "3040/3040 [==============================] - 7s 2ms/step - loss: 11.3751\n",
            "Epoch 150/300\n",
            "3040/3040 [==============================] - 7s 2ms/step - loss: 11.4088\n",
            "Epoch 151/300\n",
            "3040/3040 [==============================] - 7s 2ms/step - loss: 11.4118\n",
            "Epoch 152/300\n",
            "3040/3040 [==============================] - 7s 2ms/step - loss: 11.3531\n",
            "Epoch 153/300\n",
            "3040/3040 [==============================] - 7s 2ms/step - loss: 11.3848\n",
            "Epoch 154/300\n",
            "3040/3040 [==============================] - 7s 2ms/step - loss: 11.3088\n",
            "Epoch 155/300\n",
            "3040/3040 [==============================] - 7s 2ms/step - loss: 11.3989\n",
            "Epoch 156/300\n",
            "3040/3040 [==============================] - 7s 2ms/step - loss: 11.3717\n",
            "Epoch 157/300\n",
            "3040/3040 [==============================] - 7s 2ms/step - loss: 11.3940\n",
            "Epoch 158/300\n",
            "3040/3040 [==============================] - 7s 2ms/step - loss: 11.4775\n",
            "Epoch 159/300\n",
            "3040/3040 [==============================] - 7s 2ms/step - loss: 11.4430\n",
            "Epoch 160/300\n",
            "3040/3040 [==============================] - 8s 3ms/step - loss: 11.3521\n",
            "Epoch 161/300\n",
            "3040/3040 [==============================] - 7s 2ms/step - loss: 11.3384\n",
            "Epoch 162/300\n",
            "3040/3040 [==============================] - 7s 2ms/step - loss: 11.2928\n",
            "Epoch 163/300\n",
            "3040/3040 [==============================] - 7s 2ms/step - loss: 11.3546\n",
            "Epoch 164/300\n",
            "3040/3040 [==============================] - 7s 2ms/step - loss: 11.3780\n",
            "Epoch 165/300\n",
            "3040/3040 [==============================] - 7s 2ms/step - loss: 11.2978\n",
            "Epoch 166/300\n",
            "3040/3040 [==============================] - 7s 2ms/step - loss: 11.3440\n",
            "Epoch 167/300\n",
            "3040/3040 [==============================] - 7s 2ms/step - loss: 11.3500\n",
            "Epoch 168/300\n",
            "3040/3040 [==============================] - 7s 2ms/step - loss: 11.3044\n",
            "Epoch 169/300\n",
            "3040/3040 [==============================] - 7s 2ms/step - loss: 11.3415\n",
            "Epoch 170/300\n",
            "3040/3040 [==============================] - 7s 2ms/step - loss: 11.3010\n",
            "Epoch 171/300\n",
            "3040/3040 [==============================] - 7s 2ms/step - loss: 11.3376\n",
            "Epoch 172/300\n",
            "3040/3040 [==============================] - 7s 2ms/step - loss: 11.3323\n",
            "Epoch 173/300\n",
            "3040/3040 [==============================] - 7s 2ms/step - loss: 11.3243\n",
            "Epoch 174/300\n",
            "3040/3040 [==============================] - 7s 2ms/step - loss: 11.4308\n",
            "Epoch 175/300\n",
            "3040/3040 [==============================] - 7s 2ms/step - loss: 11.2629\n",
            "Epoch 176/300\n",
            "3040/3040 [==============================] - 7s 2ms/step - loss: 11.2590\n",
            "Epoch 177/300\n",
            "3040/3040 [==============================] - 7s 2ms/step - loss: 11.2787\n",
            "Epoch 178/300\n",
            "3040/3040 [==============================] - 7s 2ms/step - loss: 11.3343\n",
            "Epoch 179/300\n",
            "3040/3040 [==============================] - 7s 2ms/step - loss: 11.3066\n",
            "Epoch 180/300\n",
            "3040/3040 [==============================] - 7s 2ms/step - loss: 11.2693\n",
            "Epoch 181/300\n",
            "3040/3040 [==============================] - 7s 2ms/step - loss: 11.3357\n",
            "Epoch 182/300\n",
            "3040/3040 [==============================] - 7s 2ms/step - loss: 11.3021\n",
            "Epoch 183/300\n",
            "3040/3040 [==============================] - 8s 3ms/step - loss: 11.2793\n",
            "Epoch 184/300\n",
            "3040/3040 [==============================] - 7s 2ms/step - loss: 11.2193\n",
            "Epoch 185/300\n",
            "3040/3040 [==============================] - 7s 2ms/step - loss: 11.2285\n",
            "Epoch 186/300\n",
            "3040/3040 [==============================] - 7s 2ms/step - loss: 11.3410\n",
            "Epoch 187/300\n",
            "3040/3040 [==============================] - 7s 2ms/step - loss: 11.2478\n",
            "Epoch 188/300\n",
            "3040/3040 [==============================] - 7s 2ms/step - loss: 11.2382\n",
            "Epoch 189/300\n",
            "3040/3040 [==============================] - 7s 2ms/step - loss: 11.2825\n",
            "Epoch 190/300\n",
            "3040/3040 [==============================] - 7s 2ms/step - loss: 11.2175\n",
            "Epoch 191/300\n",
            "3040/3040 [==============================] - 7s 2ms/step - loss: 11.2124\n",
            "Epoch 192/300\n",
            "3040/3040 [==============================] - 7s 2ms/step - loss: 11.2907\n",
            "Epoch 193/300\n",
            "3040/3040 [==============================] - 7s 2ms/step - loss: 11.2624\n",
            "Epoch 194/300\n",
            "3040/3040 [==============================] - 7s 2ms/step - loss: 11.2464\n",
            "Epoch 195/300\n",
            "3040/3040 [==============================] - 7s 2ms/step - loss: 11.3187\n",
            "Epoch 196/300\n",
            "3040/3040 [==============================] - 7s 2ms/step - loss: 11.2477\n",
            "Epoch 197/300\n",
            "3040/3040 [==============================] - 7s 2ms/step - loss: 11.1882\n",
            "Epoch 198/300\n",
            "3040/3040 [==============================] - 7s 2ms/step - loss: 11.2310\n",
            "Epoch 199/300\n",
            "3040/3040 [==============================] - 7s 2ms/step - loss: 11.3151\n",
            "Epoch 200/300\n",
            "3040/3040 [==============================] - 7s 2ms/step - loss: 11.1951\n",
            "Epoch 201/300\n",
            "3040/3040 [==============================] - 7s 2ms/step - loss: 11.1768\n",
            "Epoch 202/300\n",
            "3040/3040 [==============================] - 7s 2ms/step - loss: 11.2560\n",
            "Epoch 203/300\n",
            "3040/3040 [==============================] - 7s 2ms/step - loss: 11.2220\n",
            "Epoch 204/300\n",
            "3040/3040 [==============================] - 7s 2ms/step - loss: 11.2614\n",
            "Epoch 205/300\n",
            "3040/3040 [==============================] - 7s 2ms/step - loss: 11.2472\n",
            "Epoch 206/300\n",
            "3040/3040 [==============================] - 8s 3ms/step - loss: 11.2734\n",
            "Epoch 207/300\n",
            "3040/3040 [==============================] - 7s 2ms/step - loss: 11.2401\n",
            "Epoch 208/300\n",
            "3040/3040 [==============================] - 7s 2ms/step - loss: 11.1993\n",
            "Epoch 209/300\n",
            "3040/3040 [==============================] - 7s 2ms/step - loss: 11.2163\n",
            "Epoch 210/300\n",
            "3040/3040 [==============================] - 7s 2ms/step - loss: 11.2638\n",
            "Epoch 211/300\n",
            "3040/3040 [==============================] - 7s 2ms/step - loss: 11.1999\n",
            "Epoch 212/300\n",
            "3040/3040 [==============================] - 7s 2ms/step - loss: 11.2684\n",
            "Epoch 213/300\n",
            "3040/3040 [==============================] - 7s 2ms/step - loss: 11.2648\n",
            "Epoch 214/300\n",
            "3040/3040 [==============================] - 7s 2ms/step - loss: 11.1917\n",
            "Epoch 215/300\n",
            "3040/3040 [==============================] - 7s 2ms/step - loss: 11.2080\n",
            "Epoch 216/300\n",
            "3040/3040 [==============================] - 7s 2ms/step - loss: 11.2063\n",
            "Epoch 217/300\n",
            "3040/3040 [==============================] - 7s 2ms/step - loss: 11.1641\n",
            "Epoch 218/300\n",
            "3040/3040 [==============================] - 7s 2ms/step - loss: 11.2168\n",
            "Epoch 219/300\n",
            "3040/3040 [==============================] - 7s 2ms/step - loss: 11.1583\n",
            "Epoch 220/300\n",
            "3040/3040 [==============================] - 7s 2ms/step - loss: 11.1531\n",
            "Epoch 221/300\n",
            "3040/3040 [==============================] - 7s 2ms/step - loss: 11.1529\n",
            "Epoch 222/300\n",
            "3040/3040 [==============================] - 7s 2ms/step - loss: 11.1604\n",
            "Epoch 223/300\n",
            "3040/3040 [==============================] - 7s 2ms/step - loss: 11.1216\n",
            "Epoch 224/300\n",
            "3040/3040 [==============================] - 7s 2ms/step - loss: 11.1782\n",
            "Epoch 225/300\n",
            "3040/3040 [==============================] - 7s 2ms/step - loss: 11.1664\n",
            "Epoch 226/300\n",
            "3040/3040 [==============================] - 7s 2ms/step - loss: 11.1933\n",
            "Epoch 227/300\n",
            "3040/3040 [==============================] - 7s 2ms/step - loss: 11.1721\n",
            "Epoch 228/300\n",
            "3040/3040 [==============================] - 7s 2ms/step - loss: 11.1867\n",
            "Epoch 229/300\n",
            "3040/3040 [==============================] - 8s 3ms/step - loss: 11.1510\n",
            "Epoch 230/300\n",
            "3040/3040 [==============================] - 7s 2ms/step - loss: 11.1260\n",
            "Epoch 231/300\n",
            "3040/3040 [==============================] - 7s 2ms/step - loss: 11.1306\n",
            "Epoch 232/300\n",
            "3040/3040 [==============================] - 7s 2ms/step - loss: 11.2652\n",
            "Epoch 233/300\n",
            "3040/3040 [==============================] - 7s 2ms/step - loss: 11.1466\n",
            "Epoch 234/300\n",
            "3040/3040 [==============================] - 7s 2ms/step - loss: 11.1403\n",
            "Epoch 235/300\n",
            "3040/3040 [==============================] - 7s 2ms/step - loss: 11.1290\n",
            "Epoch 236/300\n",
            "3040/3040 [==============================] - 7s 2ms/step - loss: 11.2341\n",
            "Epoch 237/300\n",
            "3040/3040 [==============================] - 7s 2ms/step - loss: 11.2237\n",
            "Epoch 238/300\n",
            "3040/3040 [==============================] - 7s 2ms/step - loss: 11.1595\n",
            "Epoch 239/300\n",
            "3040/3040 [==============================] - 7s 2ms/step - loss: 11.1305\n",
            "Epoch 240/300\n",
            "3040/3040 [==============================] - 7s 2ms/step - loss: 11.2047\n",
            "Epoch 241/300\n",
            "3040/3040 [==============================] - 7s 2ms/step - loss: 11.1329\n",
            "Epoch 242/300\n",
            "3040/3040 [==============================] - 7s 2ms/step - loss: 11.1425\n",
            "Epoch 243/300\n",
            "3040/3040 [==============================] - 7s 2ms/step - loss: 11.1431\n",
            "Epoch 244/300\n",
            "3040/3040 [==============================] - 7s 2ms/step - loss: 11.1683\n",
            "Epoch 245/300\n",
            "3040/3040 [==============================] - 7s 2ms/step - loss: 11.0997\n",
            "Epoch 246/300\n",
            "3040/3040 [==============================] - 7s 2ms/step - loss: 11.1536\n",
            "Epoch 247/300\n",
            "3040/3040 [==============================] - 7s 2ms/step - loss: 11.1628\n",
            "Epoch 248/300\n",
            "3040/3040 [==============================] - 7s 2ms/step - loss: 11.2050\n",
            "Epoch 249/300\n",
            "3040/3040 [==============================] - 7s 2ms/step - loss: 11.1938\n",
            "Epoch 250/300\n",
            "3040/3040 [==============================] - 7s 2ms/step - loss: 11.1530\n",
            "Epoch 251/300\n",
            "3040/3040 [==============================] - 8s 3ms/step - loss: 11.1511\n",
            "Epoch 252/300\n",
            "3040/3040 [==============================] - 7s 2ms/step - loss: 11.0928\n",
            "Epoch 253/300\n",
            "3040/3040 [==============================] - 7s 2ms/step - loss: 11.1180\n",
            "Epoch 254/300\n",
            "3040/3040 [==============================] - 7s 2ms/step - loss: 11.0947\n",
            "Epoch 255/300\n",
            "3040/3040 [==============================] - 7s 2ms/step - loss: 11.1482\n",
            "Epoch 256/300\n",
            "3040/3040 [==============================] - 7s 2ms/step - loss: 11.1465\n",
            "Epoch 257/300\n",
            "3040/3040 [==============================] - 7s 2ms/step - loss: 11.1730\n",
            "Epoch 258/300\n",
            "3040/3040 [==============================] - 7s 2ms/step - loss: 11.1493\n",
            "Epoch 259/300\n",
            "3040/3040 [==============================] - 7s 2ms/step - loss: 11.1924\n",
            "Epoch 260/300\n",
            "3040/3040 [==============================] - 7s 2ms/step - loss: 11.2077\n",
            "Epoch 261/300\n",
            "3040/3040 [==============================] - 7s 2ms/step - loss: 11.1166\n",
            "Epoch 262/300\n",
            "3040/3040 [==============================] - 7s 2ms/step - loss: 11.1199\n",
            "Epoch 263/300\n",
            "3040/3040 [==============================] - 7s 2ms/step - loss: 11.1496\n",
            "Epoch 264/300\n",
            "3040/3040 [==============================] - 7s 2ms/step - loss: 11.1450\n",
            "Epoch 265/300\n",
            "3040/3040 [==============================] - 7s 2ms/step - loss: 11.1633\n",
            "Epoch 266/300\n",
            "3040/3040 [==============================] - 7s 2ms/step - loss: 11.2157\n",
            "Epoch 267/300\n",
            "3040/3040 [==============================] - 7s 2ms/step - loss: 11.1679\n",
            "Epoch 268/300\n",
            "3040/3040 [==============================] - 7s 2ms/step - loss: 11.2397\n",
            "Epoch 269/300\n",
            "3040/3040 [==============================] - 7s 2ms/step - loss: 11.1492\n",
            "Epoch 270/300\n",
            "3040/3040 [==============================] - 7s 2ms/step - loss: 11.1042\n",
            "Epoch 271/300\n",
            "3040/3040 [==============================] - 7s 2ms/step - loss: 11.1288\n",
            "Epoch 272/300\n",
            "3040/3040 [==============================] - 7s 2ms/step - loss: 11.1352\n",
            "Epoch 273/300\n",
            "3040/3040 [==============================] - 7s 2ms/step - loss: 11.0863\n",
            "Epoch 274/300\n",
            "3040/3040 [==============================] - 8s 3ms/step - loss: 11.1319\n",
            "Epoch 275/300\n",
            "3040/3040 [==============================] - 7s 2ms/step - loss: 11.1670\n",
            "Epoch 276/300\n",
            "3040/3040 [==============================] - 7s 2ms/step - loss: 11.1705\n",
            "Epoch 277/300\n",
            "3040/3040 [==============================] - 7s 2ms/step - loss: 11.1121\n",
            "Epoch 278/300\n",
            "3040/3040 [==============================] - 7s 2ms/step - loss: 11.1310\n",
            "Epoch 279/300\n",
            "3040/3040 [==============================] - 7s 2ms/step - loss: 11.0951\n",
            "Epoch 280/300\n",
            "3040/3040 [==============================] - 7s 2ms/step - loss: 11.0650\n",
            "Epoch 281/300\n",
            "3040/3040 [==============================] - 7s 2ms/step - loss: 11.0992\n",
            "Epoch 282/300\n",
            "3040/3040 [==============================] - 7s 2ms/step - loss: 11.1019\n",
            "Epoch 283/300\n",
            "3040/3040 [==============================] - 7s 2ms/step - loss: 11.0897\n",
            "Epoch 284/300\n",
            "3040/3040 [==============================] - 7s 2ms/step - loss: 11.0947\n",
            "Epoch 285/300\n",
            "3040/3040 [==============================] - 7s 2ms/step - loss: 11.1821\n",
            "Epoch 286/300\n",
            "3040/3040 [==============================] - 7s 2ms/step - loss: 11.1154\n",
            "Epoch 287/300\n",
            "3040/3040 [==============================] - 7s 2ms/step - loss: 11.1676\n",
            "Epoch 288/300\n",
            "3040/3040 [==============================] - 7s 2ms/step - loss: 11.0796\n",
            "Epoch 289/300\n",
            "3040/3040 [==============================] - 7s 2ms/step - loss: 11.0992\n",
            "Epoch 290/300\n",
            "3040/3040 [==============================] - 7s 2ms/step - loss: 11.2118\n",
            "Epoch 291/300\n",
            "3040/3040 [==============================] - 7s 2ms/step - loss: 11.1711\n",
            "Epoch 292/300\n",
            "3040/3040 [==============================] - 7s 2ms/step - loss: 11.1081\n",
            "Epoch 293/300\n",
            "3040/3040 [==============================] - 7s 2ms/step - loss: 11.0878\n",
            "Epoch 294/300\n",
            "3040/3040 [==============================] - 7s 2ms/step - loss: 11.1769\n",
            "Epoch 295/300\n",
            "3040/3040 [==============================] - 7s 2ms/step - loss: 11.0504\n",
            "Epoch 296/300\n",
            "3040/3040 [==============================] - 7s 2ms/step - loss: 11.1358\n",
            "Epoch 297/300\n",
            "3040/3040 [==============================] - 8s 3ms/step - loss: 11.0673\n",
            "Epoch 298/300\n",
            "3040/3040 [==============================] - 7s 2ms/step - loss: 11.0938\n",
            "Epoch 299/300\n",
            "3040/3040 [==============================] - 7s 2ms/step - loss: 11.3454\n",
            "Epoch 300/300\n",
            "3040/3040 [==============================] - 7s 2ms/step - loss: 11.1277\n"
          ]
        }
      ]
    },
    {
      "cell_type": "code",
      "source": [
        "dl_pred  = model.predict(train_df)\n",
        "print('r2 score',r2_score(y, dl_pred))\n",
        "print('mean_squared_error',mean_squared_error(y, dl_pred))"
      ],
      "metadata": {
        "colab": {
          "base_uri": "https://localhost:8080/"
        },
        "id": "HWLoyQ_r0_rr",
        "outputId": "6bdd0635-da8b-4f1e-bcad-f4db5ca65b4e"
      },
      "execution_count": null,
      "outputs": [
        {
          "output_type": "stream",
          "name": "stdout",
          "text": [
            "r2 score 0.8771767468381871\n",
            "mean_squared_error 10.815064784245427\n"
          ]
        }
      ]
    },
    {
      "cell_type": "code",
      "source": [
        "train_df = df_preprocess(train_df)\n",
        "train_df = df_transform(train_df)"
      ],
      "metadata": {
        "id": "4HkOnh0GgU18"
      },
      "execution_count": null,
      "outputs": []
    },
    {
      "cell_type": "code",
      "source": [
        "IDs = test_df['ID']\n",
        "test_df = df_preprocess(test_df)\n",
        "test_df = df_transform(test_df)\n",
        "dl_pred  = model.predict(test_df)"
      ],
      "metadata": {
        "id": "D7gvbd1Gm9kO"
      },
      "execution_count": null,
      "outputs": []
    },
    {
      "cell_type": "code",
      "source": [],
      "metadata": {
        "id": "xwb7UET6HRn6"
      },
      "execution_count": null,
      "outputs": []
    },
    {
      "cell_type": "code",
      "source": [
        "result = pd.DataFrame(columns = ['ID','Time_taken (min)'])\n",
        "result['ID'] = IDs\n",
        "for ind,row in result.iterrows():\n",
        "  result.at[ind,'Time_taken (min)'] = dl_pred[ind][0]\n"
      ],
      "metadata": {
        "id": "zw6dgG051p-s"
      },
      "execution_count": null,
      "outputs": []
    },
    {
      "cell_type": "code",
      "source": [
        "result.to_csv(r'/content/drive/MyDrive/datasets/submission.csv',index=False)"
      ],
      "metadata": {
        "id": "FYGbOew06Jcf"
      },
      "execution_count": null,
      "outputs": []
    },
    {
      "cell_type": "code",
      "source": [
        "result"
      ],
      "metadata": {
        "colab": {
          "base_uri": "https://localhost:8080/",
          "height": 424
        },
        "id": "4co6bY9299Yh",
        "outputId": "04ce12c4-659b-42e0-dcab-4a0a96d40b7c"
      },
      "execution_count": null,
      "outputs": [
        {
          "output_type": "execute_result",
          "data": {
            "text/plain": [
              "           ID Time_taken (min)\n",
              "0      0x2318        16.142857\n",
              "1      0x3474             29.0\n",
              "2      0x9420        31.714286\n",
              "3      0x72ee        23.285714\n",
              "4      0xa759        18.285714\n",
              "...       ...              ...\n",
              "11394  0x6909        25.571429\n",
              "11395  0x443b        28.142857\n",
              "11396  0x1ea5        21.428571\n",
              "11397  0x22d4        31.428571\n",
              "11398  0xb7be             20.0\n",
              "\n",
              "[11399 rows x 2 columns]"
            ],
            "text/html": [
              "\n",
              "  <div id=\"df-ec54fed9-971d-40e6-86f3-0f0098236424\">\n",
              "    <div class=\"colab-df-container\">\n",
              "      <div>\n",
              "<style scoped>\n",
              "    .dataframe tbody tr th:only-of-type {\n",
              "        vertical-align: middle;\n",
              "    }\n",
              "\n",
              "    .dataframe tbody tr th {\n",
              "        vertical-align: top;\n",
              "    }\n",
              "\n",
              "    .dataframe thead th {\n",
              "        text-align: right;\n",
              "    }\n",
              "</style>\n",
              "<table border=\"1\" class=\"dataframe\">\n",
              "  <thead>\n",
              "    <tr style=\"text-align: right;\">\n",
              "      <th></th>\n",
              "      <th>ID</th>\n",
              "      <th>Time_taken (min)</th>\n",
              "    </tr>\n",
              "  </thead>\n",
              "  <tbody>\n",
              "    <tr>\n",
              "      <th>0</th>\n",
              "      <td>0x2318</td>\n",
              "      <td>16.142857</td>\n",
              "    </tr>\n",
              "    <tr>\n",
              "      <th>1</th>\n",
              "      <td>0x3474</td>\n",
              "      <td>29.0</td>\n",
              "    </tr>\n",
              "    <tr>\n",
              "      <th>2</th>\n",
              "      <td>0x9420</td>\n",
              "      <td>31.714286</td>\n",
              "    </tr>\n",
              "    <tr>\n",
              "      <th>3</th>\n",
              "      <td>0x72ee</td>\n",
              "      <td>23.285714</td>\n",
              "    </tr>\n",
              "    <tr>\n",
              "      <th>4</th>\n",
              "      <td>0xa759</td>\n",
              "      <td>18.285714</td>\n",
              "    </tr>\n",
              "    <tr>\n",
              "      <th>...</th>\n",
              "      <td>...</td>\n",
              "      <td>...</td>\n",
              "    </tr>\n",
              "    <tr>\n",
              "      <th>11394</th>\n",
              "      <td>0x6909</td>\n",
              "      <td>25.571429</td>\n",
              "    </tr>\n",
              "    <tr>\n",
              "      <th>11395</th>\n",
              "      <td>0x443b</td>\n",
              "      <td>28.142857</td>\n",
              "    </tr>\n",
              "    <tr>\n",
              "      <th>11396</th>\n",
              "      <td>0x1ea5</td>\n",
              "      <td>21.428571</td>\n",
              "    </tr>\n",
              "    <tr>\n",
              "      <th>11397</th>\n",
              "      <td>0x22d4</td>\n",
              "      <td>31.428571</td>\n",
              "    </tr>\n",
              "    <tr>\n",
              "      <th>11398</th>\n",
              "      <td>0xb7be</td>\n",
              "      <td>20.0</td>\n",
              "    </tr>\n",
              "  </tbody>\n",
              "</table>\n",
              "<p>11399 rows × 2 columns</p>\n",
              "</div>\n",
              "      <button class=\"colab-df-convert\" onclick=\"convertToInteractive('df-ec54fed9-971d-40e6-86f3-0f0098236424')\"\n",
              "              title=\"Convert this dataframe to an interactive table.\"\n",
              "              style=\"display:none;\">\n",
              "        \n",
              "  <svg xmlns=\"http://www.w3.org/2000/svg\" height=\"24px\"viewBox=\"0 0 24 24\"\n",
              "       width=\"24px\">\n",
              "    <path d=\"M0 0h24v24H0V0z\" fill=\"none\"/>\n",
              "    <path d=\"M18.56 5.44l.94 2.06.94-2.06 2.06-.94-2.06-.94-.94-2.06-.94 2.06-2.06.94zm-11 1L8.5 8.5l.94-2.06 2.06-.94-2.06-.94L8.5 2.5l-.94 2.06-2.06.94zm10 10l.94 2.06.94-2.06 2.06-.94-2.06-.94-.94-2.06-.94 2.06-2.06.94z\"/><path d=\"M17.41 7.96l-1.37-1.37c-.4-.4-.92-.59-1.43-.59-.52 0-1.04.2-1.43.59L10.3 9.45l-7.72 7.72c-.78.78-.78 2.05 0 2.83L4 21.41c.39.39.9.59 1.41.59.51 0 1.02-.2 1.41-.59l7.78-7.78 2.81-2.81c.8-.78.8-2.07 0-2.86zM5.41 20L4 18.59l7.72-7.72 1.47 1.35L5.41 20z\"/>\n",
              "  </svg>\n",
              "      </button>\n",
              "      \n",
              "  <style>\n",
              "    .colab-df-container {\n",
              "      display:flex;\n",
              "      flex-wrap:wrap;\n",
              "      gap: 12px;\n",
              "    }\n",
              "\n",
              "    .colab-df-convert {\n",
              "      background-color: #E8F0FE;\n",
              "      border: none;\n",
              "      border-radius: 50%;\n",
              "      cursor: pointer;\n",
              "      display: none;\n",
              "      fill: #1967D2;\n",
              "      height: 32px;\n",
              "      padding: 0 0 0 0;\n",
              "      width: 32px;\n",
              "    }\n",
              "\n",
              "    .colab-df-convert:hover {\n",
              "      background-color: #E2EBFA;\n",
              "      box-shadow: 0px 1px 2px rgba(60, 64, 67, 0.3), 0px 1px 3px 1px rgba(60, 64, 67, 0.15);\n",
              "      fill: #174EA6;\n",
              "    }\n",
              "\n",
              "    [theme=dark] .colab-df-convert {\n",
              "      background-color: #3B4455;\n",
              "      fill: #D2E3FC;\n",
              "    }\n",
              "\n",
              "    [theme=dark] .colab-df-convert:hover {\n",
              "      background-color: #434B5C;\n",
              "      box-shadow: 0px 1px 3px 1px rgba(0, 0, 0, 0.15);\n",
              "      filter: drop-shadow(0px 1px 2px rgba(0, 0, 0, 0.3));\n",
              "      fill: #FFFFFF;\n",
              "    }\n",
              "  </style>\n",
              "\n",
              "      <script>\n",
              "        const buttonEl =\n",
              "          document.querySelector('#df-ec54fed9-971d-40e6-86f3-0f0098236424 button.colab-df-convert');\n",
              "        buttonEl.style.display =\n",
              "          google.colab.kernel.accessAllowed ? 'block' : 'none';\n",
              "\n",
              "        async function convertToInteractive(key) {\n",
              "          const element = document.querySelector('#df-ec54fed9-971d-40e6-86f3-0f0098236424');\n",
              "          const dataTable =\n",
              "            await google.colab.kernel.invokeFunction('convertToInteractive',\n",
              "                                                     [key], {});\n",
              "          if (!dataTable) return;\n",
              "\n",
              "          const docLinkHtml = 'Like what you see? Visit the ' +\n",
              "            '<a target=\"_blank\" href=https://colab.research.google.com/notebooks/data_table.ipynb>data table notebook</a>'\n",
              "            + ' to learn more about interactive tables.';\n",
              "          element.innerHTML = '';\n",
              "          dataTable['output_type'] = 'display_data';\n",
              "          await google.colab.output.renderOutput(dataTable, element);\n",
              "          const docLink = document.createElement('div');\n",
              "          docLink.innerHTML = docLinkHtml;\n",
              "          element.appendChild(docLink);\n",
              "        }\n",
              "      </script>\n",
              "    </div>\n",
              "  </div>\n",
              "  "
            ]
          },
          "metadata": {},
          "execution_count": 90
        }
      ]
    },
    {
      "cell_type": "markdown",
      "source": [],
      "metadata": {
        "id": "9W9p01SDhzD2"
      }
    }
  ]
}